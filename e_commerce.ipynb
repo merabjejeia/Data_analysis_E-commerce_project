{
 "cells": [
  {
   "cell_type": "markdown",
   "metadata": {},
   "source": [
    "### Загрузим данные, подгрузим нужные библиотеки."
   ]
  },
  {
   "cell_type": "code",
   "execution_count": 1,
   "metadata": {},
   "outputs": [],
   "source": [
    "import pandas as pd\n",
    "import numpy as np\n",
    "%matplotlib inline\n",
    "import matplotlib.pyplot as plt\n",
    "import seaborn as sns\n",
    "import plotly.graph_objects as go\n",
    "import plotly.express as px\n",
    "from dateutil.relativedelta import relativedelta\n"
   ]
  },
  {
   "cell_type": "markdown",
   "metadata": {},
   "source": [
    "#### customers - данные о пользователях.\n",
    "\n",
    "    customer_id —  позаказный идентификатор пользователя\n",
    "    customer_unique_id —  уникальный идентификатор пользователя (аналог номера паспорта)\n",
    "    customer_zip_code_prefix —  почтовый индекс пользователя\n",
    "    customer_city —  город доставки пользователя\n",
    "    customer_state —  штат доставки пользователя"
   ]
  },
  {
   "cell_type": "code",
   "execution_count": 5,
   "metadata": {},
   "outputs": [
    {
     "data": {
      "text/html": [
       "<div>\n",
       "<style scoped>\n",
       "    .dataframe tbody tr th:only-of-type {\n",
       "        vertical-align: middle;\n",
       "    }\n",
       "\n",
       "    .dataframe tbody tr th {\n",
       "        vertical-align: top;\n",
       "    }\n",
       "\n",
       "    .dataframe thead th {\n",
       "        text-align: right;\n",
       "    }\n",
       "</style>\n",
       "<table border=\"1\" class=\"dataframe\">\n",
       "  <thead>\n",
       "    <tr style=\"text-align: right;\">\n",
       "      <th></th>\n",
       "      <th>customer_id</th>\n",
       "      <th>customer_unique_id</th>\n",
       "      <th>customer_zip_code_prefix</th>\n",
       "      <th>customer_city</th>\n",
       "      <th>customer_state</th>\n",
       "    </tr>\n",
       "  </thead>\n",
       "  <tbody>\n",
       "    <tr>\n",
       "      <th>0</th>\n",
       "      <td>06b8999e2fba1a1fbc88172c00ba8bc7</td>\n",
       "      <td>861eff4711a542e4b93843c6dd7febb0</td>\n",
       "      <td>14409</td>\n",
       "      <td>franca</td>\n",
       "      <td>SP</td>\n",
       "    </tr>\n",
       "    <tr>\n",
       "      <th>1</th>\n",
       "      <td>18955e83d337fd6b2def6b18a428ac77</td>\n",
       "      <td>290c77bc529b7ac935b93aa66c333dc3</td>\n",
       "      <td>9790</td>\n",
       "      <td>sao bernardo do campo</td>\n",
       "      <td>SP</td>\n",
       "    </tr>\n",
       "    <tr>\n",
       "      <th>2</th>\n",
       "      <td>4e7b3e00288586ebd08712fdd0374a03</td>\n",
       "      <td>060e732b5b29e8181a18229c7b0b2b5e</td>\n",
       "      <td>1151</td>\n",
       "      <td>sao paulo</td>\n",
       "      <td>SP</td>\n",
       "    </tr>\n",
       "    <tr>\n",
       "      <th>3</th>\n",
       "      <td>b2b6027bc5c5109e529d4dc6358b12c3</td>\n",
       "      <td>259dac757896d24d7702b9acbbff3f3c</td>\n",
       "      <td>8775</td>\n",
       "      <td>mogi das cruzes</td>\n",
       "      <td>SP</td>\n",
       "    </tr>\n",
       "    <tr>\n",
       "      <th>4</th>\n",
       "      <td>4f2d8ab171c80ec8364f7c12e35b23ad</td>\n",
       "      <td>345ecd01c38d18a9036ed96c73b8d066</td>\n",
       "      <td>13056</td>\n",
       "      <td>campinas</td>\n",
       "      <td>SP</td>\n",
       "    </tr>\n",
       "  </tbody>\n",
       "</table>\n",
       "</div>"
      ],
      "text/plain": [
       "                        customer_id                customer_unique_id  \\\n",
       "0  06b8999e2fba1a1fbc88172c00ba8bc7  861eff4711a542e4b93843c6dd7febb0   \n",
       "1  18955e83d337fd6b2def6b18a428ac77  290c77bc529b7ac935b93aa66c333dc3   \n",
       "2  4e7b3e00288586ebd08712fdd0374a03  060e732b5b29e8181a18229c7b0b2b5e   \n",
       "3  b2b6027bc5c5109e529d4dc6358b12c3  259dac757896d24d7702b9acbbff3f3c   \n",
       "4  4f2d8ab171c80ec8364f7c12e35b23ad  345ecd01c38d18a9036ed96c73b8d066   \n",
       "\n",
       "   customer_zip_code_prefix          customer_city customer_state  \n",
       "0                     14409                 franca             SP  \n",
       "1                      9790  sao bernardo do campo             SP  \n",
       "2                      1151              sao paulo             SP  \n",
       "3                      8775        mogi das cruzes             SP  \n",
       "4                     13056               campinas             SP  "
      ]
     },
     "execution_count": 5,
     "metadata": {},
     "output_type": "execute_result"
    }
   ],
   "source": [
    "customers = pd.read_csv('csv/olist_customers_dataset.csv')\n",
    "customers.head()"
   ]
  },
  {
   "cell_type": "markdown",
   "metadata": {},
   "source": [
    "#### orders - данные о заказах\n",
    "\n",
    "    order_id —  уникальный идентификатор заказа (номер чека)\n",
    "    customer_id —  позаказный идентификатор пользователя\n",
    "    order_status —  статус заказа\n",
    "    order_purchase_timestamp —  время создания заказа\n",
    "    order_approved_at —  время подтверждения оплаты заказа\n",
    "    order_delivered_carrier_date —  время передачи заказа в логистическую службу\n",
    "    order_delivered_customer_date —  время доставки заказа\n",
    "    order_estimated_delivery_date —  обещанная дата доставки"
   ]
  },
  {
   "cell_type": "code",
   "execution_count": 6,
   "metadata": {
    "scrolled": true
   },
   "outputs": [
    {
     "data": {
      "text/html": [
       "<div>\n",
       "<style scoped>\n",
       "    .dataframe tbody tr th:only-of-type {\n",
       "        vertical-align: middle;\n",
       "    }\n",
       "\n",
       "    .dataframe tbody tr th {\n",
       "        vertical-align: top;\n",
       "    }\n",
       "\n",
       "    .dataframe thead th {\n",
       "        text-align: right;\n",
       "    }\n",
       "</style>\n",
       "<table border=\"1\" class=\"dataframe\">\n",
       "  <thead>\n",
       "    <tr style=\"text-align: right;\">\n",
       "      <th></th>\n",
       "      <th>order_id</th>\n",
       "      <th>customer_id</th>\n",
       "      <th>order_status</th>\n",
       "      <th>order_purchase_timestamp</th>\n",
       "      <th>order_approved_at</th>\n",
       "      <th>order_delivered_carrier_date</th>\n",
       "      <th>order_delivered_customer_date</th>\n",
       "      <th>order_estimated_delivery_date</th>\n",
       "    </tr>\n",
       "  </thead>\n",
       "  <tbody>\n",
       "    <tr>\n",
       "      <th>0</th>\n",
       "      <td>e481f51cbdc54678b7cc49136f2d6af7</td>\n",
       "      <td>9ef432eb6251297304e76186b10a928d</td>\n",
       "      <td>delivered</td>\n",
       "      <td>2017-10-02 10:56:33</td>\n",
       "      <td>2017-10-02 11:07:15</td>\n",
       "      <td>2017-10-04 19:55:00</td>\n",
       "      <td>2017-10-10 21:25:13</td>\n",
       "      <td>2017-10-18 00:00:00</td>\n",
       "    </tr>\n",
       "    <tr>\n",
       "      <th>1</th>\n",
       "      <td>53cdb2fc8bc7dce0b6741e2150273451</td>\n",
       "      <td>b0830fb4747a6c6d20dea0b8c802d7ef</td>\n",
       "      <td>delivered</td>\n",
       "      <td>2018-07-24 20:41:37</td>\n",
       "      <td>2018-07-26 03:24:27</td>\n",
       "      <td>2018-07-26 14:31:00</td>\n",
       "      <td>2018-08-07 15:27:45</td>\n",
       "      <td>2018-08-13 00:00:00</td>\n",
       "    </tr>\n",
       "    <tr>\n",
       "      <th>2</th>\n",
       "      <td>47770eb9100c2d0c44946d9cf07ec65d</td>\n",
       "      <td>41ce2a54c0b03bf3443c3d931a367089</td>\n",
       "      <td>delivered</td>\n",
       "      <td>2018-08-08 08:38:49</td>\n",
       "      <td>2018-08-08 08:55:23</td>\n",
       "      <td>2018-08-08 13:50:00</td>\n",
       "      <td>2018-08-17 18:06:29</td>\n",
       "      <td>2018-09-04 00:00:00</td>\n",
       "    </tr>\n",
       "    <tr>\n",
       "      <th>3</th>\n",
       "      <td>949d5b44dbf5de918fe9c16f97b45f8a</td>\n",
       "      <td>f88197465ea7920adcdbec7375364d82</td>\n",
       "      <td>delivered</td>\n",
       "      <td>2017-11-18 19:28:06</td>\n",
       "      <td>2017-11-18 19:45:59</td>\n",
       "      <td>2017-11-22 13:39:59</td>\n",
       "      <td>2017-12-02 00:28:42</td>\n",
       "      <td>2017-12-15 00:00:00</td>\n",
       "    </tr>\n",
       "    <tr>\n",
       "      <th>4</th>\n",
       "      <td>ad21c59c0840e6cb83a9ceb5573f8159</td>\n",
       "      <td>8ab97904e6daea8866dbdbc4fb7aad2c</td>\n",
       "      <td>delivered</td>\n",
       "      <td>2018-02-13 21:18:39</td>\n",
       "      <td>2018-02-13 22:20:29</td>\n",
       "      <td>2018-02-14 19:46:34</td>\n",
       "      <td>2018-02-16 18:17:02</td>\n",
       "      <td>2018-02-26 00:00:00</td>\n",
       "    </tr>\n",
       "  </tbody>\n",
       "</table>\n",
       "</div>"
      ],
      "text/plain": [
       "                           order_id                       customer_id  \\\n",
       "0  e481f51cbdc54678b7cc49136f2d6af7  9ef432eb6251297304e76186b10a928d   \n",
       "1  53cdb2fc8bc7dce0b6741e2150273451  b0830fb4747a6c6d20dea0b8c802d7ef   \n",
       "2  47770eb9100c2d0c44946d9cf07ec65d  41ce2a54c0b03bf3443c3d931a367089   \n",
       "3  949d5b44dbf5de918fe9c16f97b45f8a  f88197465ea7920adcdbec7375364d82   \n",
       "4  ad21c59c0840e6cb83a9ceb5573f8159  8ab97904e6daea8866dbdbc4fb7aad2c   \n",
       "\n",
       "  order_status order_purchase_timestamp    order_approved_at  \\\n",
       "0    delivered      2017-10-02 10:56:33  2017-10-02 11:07:15   \n",
       "1    delivered      2018-07-24 20:41:37  2018-07-26 03:24:27   \n",
       "2    delivered      2018-08-08 08:38:49  2018-08-08 08:55:23   \n",
       "3    delivered      2017-11-18 19:28:06  2017-11-18 19:45:59   \n",
       "4    delivered      2018-02-13 21:18:39  2018-02-13 22:20:29   \n",
       "\n",
       "  order_delivered_carrier_date order_delivered_customer_date  \\\n",
       "0          2017-10-04 19:55:00           2017-10-10 21:25:13   \n",
       "1          2018-07-26 14:31:00           2018-08-07 15:27:45   \n",
       "2          2018-08-08 13:50:00           2018-08-17 18:06:29   \n",
       "3          2017-11-22 13:39:59           2017-12-02 00:28:42   \n",
       "4          2018-02-14 19:46:34           2018-02-16 18:17:02   \n",
       "\n",
       "  order_estimated_delivery_date  \n",
       "0           2017-10-18 00:00:00  \n",
       "1           2018-08-13 00:00:00  \n",
       "2           2018-09-04 00:00:00  \n",
       "3           2017-12-15 00:00:00  \n",
       "4           2018-02-26 00:00:00  "
      ]
     },
     "execution_count": 6,
     "metadata": {},
     "output_type": "execute_result"
    }
   ],
   "source": [
    "orders = pd.read_csv('csv/olist_orders_dataset.csv')\n",
    "orders.head()"
   ]
  },
  {
   "cell_type": "markdown",
   "metadata": {},
   "source": [
    "#### order_items - данные о товарах, входящих в заказы\n",
    "\n",
    "    order_id —  уникальный идентификатор заказа (номер чека)\n",
    "    order_item_id —  идентификатор товара внутри одного заказа\n",
    "    product_id —  ид товара (аналог штрихкода)\n",
    "    seller_id — ид производителя товара\n",
    "    shipping_limit_date —  максимальная дата доставки продавцом для передачи заказа партнеру по логистике\n",
    "    price —  цена за единицу товара\n",
    "    freight_value —  вес товара"
   ]
  },
  {
   "cell_type": "code",
   "execution_count": 7,
   "metadata": {
    "scrolled": true
   },
   "outputs": [
    {
     "data": {
      "text/html": [
       "<div>\n",
       "<style scoped>\n",
       "    .dataframe tbody tr th:only-of-type {\n",
       "        vertical-align: middle;\n",
       "    }\n",
       "\n",
       "    .dataframe tbody tr th {\n",
       "        vertical-align: top;\n",
       "    }\n",
       "\n",
       "    .dataframe thead th {\n",
       "        text-align: right;\n",
       "    }\n",
       "</style>\n",
       "<table border=\"1\" class=\"dataframe\">\n",
       "  <thead>\n",
       "    <tr style=\"text-align: right;\">\n",
       "      <th></th>\n",
       "      <th>order_id</th>\n",
       "      <th>order_item_id</th>\n",
       "      <th>product_id</th>\n",
       "      <th>seller_id</th>\n",
       "      <th>shipping_limit_date</th>\n",
       "      <th>price</th>\n",
       "      <th>freight_value</th>\n",
       "    </tr>\n",
       "  </thead>\n",
       "  <tbody>\n",
       "    <tr>\n",
       "      <th>0</th>\n",
       "      <td>00010242fe8c5a6d1ba2dd792cb16214</td>\n",
       "      <td>1</td>\n",
       "      <td>4244733e06e7ecb4970a6e2683c13e61</td>\n",
       "      <td>48436dade18ac8b2bce089ec2a041202</td>\n",
       "      <td>2017-09-19 09:45:35</td>\n",
       "      <td>58.90</td>\n",
       "      <td>13.29</td>\n",
       "    </tr>\n",
       "    <tr>\n",
       "      <th>1</th>\n",
       "      <td>00018f77f2f0320c557190d7a144bdd3</td>\n",
       "      <td>1</td>\n",
       "      <td>e5f2d52b802189ee658865ca93d83a8f</td>\n",
       "      <td>dd7ddc04e1b6c2c614352b383efe2d36</td>\n",
       "      <td>2017-05-03 11:05:13</td>\n",
       "      <td>239.90</td>\n",
       "      <td>19.93</td>\n",
       "    </tr>\n",
       "    <tr>\n",
       "      <th>2</th>\n",
       "      <td>000229ec398224ef6ca0657da4fc703e</td>\n",
       "      <td>1</td>\n",
       "      <td>c777355d18b72b67abbeef9df44fd0fd</td>\n",
       "      <td>5b51032eddd242adc84c38acab88f23d</td>\n",
       "      <td>2018-01-18 14:48:30</td>\n",
       "      <td>199.00</td>\n",
       "      <td>17.87</td>\n",
       "    </tr>\n",
       "    <tr>\n",
       "      <th>3</th>\n",
       "      <td>00024acbcdf0a6daa1e931b038114c75</td>\n",
       "      <td>1</td>\n",
       "      <td>7634da152a4610f1595efa32f14722fc</td>\n",
       "      <td>9d7a1d34a5052409006425275ba1c2b4</td>\n",
       "      <td>2018-08-15 10:10:18</td>\n",
       "      <td>12.99</td>\n",
       "      <td>12.79</td>\n",
       "    </tr>\n",
       "    <tr>\n",
       "      <th>4</th>\n",
       "      <td>00042b26cf59d7ce69dfabb4e55b4fd9</td>\n",
       "      <td>1</td>\n",
       "      <td>ac6c3623068f30de03045865e4e10089</td>\n",
       "      <td>df560393f3a51e74553ab94004ba5c87</td>\n",
       "      <td>2017-02-13 13:57:51</td>\n",
       "      <td>199.90</td>\n",
       "      <td>18.14</td>\n",
       "    </tr>\n",
       "  </tbody>\n",
       "</table>\n",
       "</div>"
      ],
      "text/plain": [
       "                           order_id  order_item_id  \\\n",
       "0  00010242fe8c5a6d1ba2dd792cb16214              1   \n",
       "1  00018f77f2f0320c557190d7a144bdd3              1   \n",
       "2  000229ec398224ef6ca0657da4fc703e              1   \n",
       "3  00024acbcdf0a6daa1e931b038114c75              1   \n",
       "4  00042b26cf59d7ce69dfabb4e55b4fd9              1   \n",
       "\n",
       "                         product_id                         seller_id  \\\n",
       "0  4244733e06e7ecb4970a6e2683c13e61  48436dade18ac8b2bce089ec2a041202   \n",
       "1  e5f2d52b802189ee658865ca93d83a8f  dd7ddc04e1b6c2c614352b383efe2d36   \n",
       "2  c777355d18b72b67abbeef9df44fd0fd  5b51032eddd242adc84c38acab88f23d   \n",
       "3  7634da152a4610f1595efa32f14722fc  9d7a1d34a5052409006425275ba1c2b4   \n",
       "4  ac6c3623068f30de03045865e4e10089  df560393f3a51e74553ab94004ba5c87   \n",
       "\n",
       "   shipping_limit_date   price  freight_value  \n",
       "0  2017-09-19 09:45:35   58.90          13.29  \n",
       "1  2017-05-03 11:05:13  239.90          19.93  \n",
       "2  2018-01-18 14:48:30  199.00          17.87  \n",
       "3  2018-08-15 10:10:18   12.99          12.79  \n",
       "4  2017-02-13 13:57:51  199.90          18.14  "
      ]
     },
     "execution_count": 7,
     "metadata": {},
     "output_type": "execute_result"
    }
   ],
   "source": [
    "order_items = pd.read_csv('csv/olist_order_items_dataset.csv')\n",
    "order_items.head()"
   ]
  },
  {
   "cell_type": "markdown",
   "metadata": {},
   "source": [
    "### Переведем нужные колонки содержащие дату в тип datetime."
   ]
  },
  {
   "cell_type": "code",
   "execution_count": 8,
   "metadata": {
    "scrolled": true
   },
   "outputs": [
    {
     "data": {
      "text/plain": [
       "order_id                                 object\n",
       "customer_id                              object\n",
       "order_status                             object\n",
       "order_purchase_timestamp         datetime64[ns]\n",
       "order_approved_at                datetime64[ns]\n",
       "order_delivered_carrier_date             object\n",
       "order_delivered_customer_date            object\n",
       "order_estimated_delivery_date    datetime64[ns]\n",
       "dtype: object"
      ]
     },
     "execution_count": 8,
     "metadata": {},
     "output_type": "execute_result"
    }
   ],
   "source": [
    "orders.order_approved_at = pd.to_datetime(orders.order_approved_at)\n",
    "orders.order_purchase_timestamp = pd.to_datetime(orders.order_purchase_timestamp)\n",
    "orders.order_estimated_delivery_date = pd.to_datetime(orders.order_estimated_delivery_date)\n",
    "orders.dtypes"
   ]
  },
  {
   "cell_type": "markdown",
   "metadata": {},
   "source": [
    "## 1. Сколько у нас пользователей, которые совершили покупку только один раз?"
   ]
  },
  {
   "cell_type": "markdown",
   "metadata": {},
   "source": [
    "### Cоздадим таблицу которую будем анализировать."
   ]
  },
  {
   "cell_type": "code",
   "execution_count": 9,
   "metadata": {},
   "outputs": [
    {
     "data": {
      "text/html": [
       "<div>\n",
       "<style scoped>\n",
       "    .dataframe tbody tr th:only-of-type {\n",
       "        vertical-align: middle;\n",
       "    }\n",
       "\n",
       "    .dataframe tbody tr th {\n",
       "        vertical-align: top;\n",
       "    }\n",
       "\n",
       "    .dataframe thead th {\n",
       "        text-align: right;\n",
       "    }\n",
       "</style>\n",
       "<table border=\"1\" class=\"dataframe\">\n",
       "  <thead>\n",
       "    <tr style=\"text-align: right;\">\n",
       "      <th></th>\n",
       "      <th>customer_id</th>\n",
       "      <th>customer_unique_id</th>\n",
       "      <th>order_id</th>\n",
       "      <th>order_status</th>\n",
       "      <th>order_approved_at</th>\n",
       "      <th>order_purchase_timestamp</th>\n",
       "    </tr>\n",
       "  </thead>\n",
       "  <tbody>\n",
       "    <tr>\n",
       "      <th>0</th>\n",
       "      <td>06b8999e2fba1a1fbc88172c00ba8bc7</td>\n",
       "      <td>861eff4711a542e4b93843c6dd7febb0</td>\n",
       "      <td>00e7ee1b050b8499577073aeb2a297a1</td>\n",
       "      <td>delivered</td>\n",
       "      <td>2017-05-16 15:22:12</td>\n",
       "      <td>2017-05-16 15:05:35</td>\n",
       "    </tr>\n",
       "    <tr>\n",
       "      <th>1</th>\n",
       "      <td>18955e83d337fd6b2def6b18a428ac77</td>\n",
       "      <td>290c77bc529b7ac935b93aa66c333dc3</td>\n",
       "      <td>29150127e6685892b6eab3eec79f59c7</td>\n",
       "      <td>delivered</td>\n",
       "      <td>2018-01-12 20:58:32</td>\n",
       "      <td>2018-01-12 20:48:24</td>\n",
       "    </tr>\n",
       "    <tr>\n",
       "      <th>2</th>\n",
       "      <td>4e7b3e00288586ebd08712fdd0374a03</td>\n",
       "      <td>060e732b5b29e8181a18229c7b0b2b5e</td>\n",
       "      <td>b2059ed67ce144a36e2aa97d2c9e9ad2</td>\n",
       "      <td>delivered</td>\n",
       "      <td>2018-05-20 16:19:10</td>\n",
       "      <td>2018-05-19 16:07:45</td>\n",
       "    </tr>\n",
       "    <tr>\n",
       "      <th>3</th>\n",
       "      <td>b2b6027bc5c5109e529d4dc6358b12c3</td>\n",
       "      <td>259dac757896d24d7702b9acbbff3f3c</td>\n",
       "      <td>951670f92359f4fe4a63112aa7306eba</td>\n",
       "      <td>delivered</td>\n",
       "      <td>2018-03-13 17:29:19</td>\n",
       "      <td>2018-03-13 16:06:38</td>\n",
       "    </tr>\n",
       "    <tr>\n",
       "      <th>4</th>\n",
       "      <td>4f2d8ab171c80ec8364f7c12e35b23ad</td>\n",
       "      <td>345ecd01c38d18a9036ed96c73b8d066</td>\n",
       "      <td>6b7d50bd145f6fc7f33cebabd7e49d0f</td>\n",
       "      <td>delivered</td>\n",
       "      <td>2018-07-29 10:10:09</td>\n",
       "      <td>2018-07-29 09:51:30</td>\n",
       "    </tr>\n",
       "  </tbody>\n",
       "</table>\n",
       "</div>"
      ],
      "text/plain": [
       "                        customer_id                customer_unique_id  \\\n",
       "0  06b8999e2fba1a1fbc88172c00ba8bc7  861eff4711a542e4b93843c6dd7febb0   \n",
       "1  18955e83d337fd6b2def6b18a428ac77  290c77bc529b7ac935b93aa66c333dc3   \n",
       "2  4e7b3e00288586ebd08712fdd0374a03  060e732b5b29e8181a18229c7b0b2b5e   \n",
       "3  b2b6027bc5c5109e529d4dc6358b12c3  259dac757896d24d7702b9acbbff3f3c   \n",
       "4  4f2d8ab171c80ec8364f7c12e35b23ad  345ecd01c38d18a9036ed96c73b8d066   \n",
       "\n",
       "                           order_id order_status   order_approved_at  \\\n",
       "0  00e7ee1b050b8499577073aeb2a297a1    delivered 2017-05-16 15:22:12   \n",
       "1  29150127e6685892b6eab3eec79f59c7    delivered 2018-01-12 20:58:32   \n",
       "2  b2059ed67ce144a36e2aa97d2c9e9ad2    delivered 2018-05-20 16:19:10   \n",
       "3  951670f92359f4fe4a63112aa7306eba    delivered 2018-03-13 17:29:19   \n",
       "4  6b7d50bd145f6fc7f33cebabd7e49d0f    delivered 2018-07-29 10:10:09   \n",
       "\n",
       "  order_purchase_timestamp  \n",
       "0      2017-05-16 15:05:35  \n",
       "1      2018-01-12 20:48:24  \n",
       "2      2018-05-19 16:07:45  \n",
       "3      2018-03-13 16:06:38  \n",
       "4      2018-07-29 09:51:30  "
      ]
     },
     "execution_count": 9,
     "metadata": {},
     "output_type": "execute_result"
    }
   ],
   "source": [
    "table_1 = pd.merge(customers[['customer_id', 'customer_unique_id']], \n",
    "                  orders[['order_id', 'customer_id', 'order_status', 'order_approved_at', 'order_purchase_timestamp']], \n",
    "                  on = 'customer_id'\n",
    "                 )\n",
    "table_1.head()"
   ]
  },
  {
   "cell_type": "markdown",
   "metadata": {},
   "source": [
    "### Будем считать за покупку заказ где есть дата формирования заказа и дата подтверждения оплаты. \n",
    "#### Посмотрим сколько дат в виде NaN и уберем их."
   ]
  },
  {
   "cell_type": "code",
   "execution_count": 10,
   "metadata": {
    "scrolled": true
   },
   "outputs": [
    {
     "name": "stdout",
     "output_type": "stream",
     "text": [
      "Количество na в колонке с подтверждением заказа:  160 \n",
      " Количество na в колонке создания заказа:  0\n"
     ]
    }
   ],
   "source": [
    "print('Количество na в колонке с подтверждением заказа: ', table_1.order_approved_at.isna().sum(), '\\n',\n",
    "      'Количество na в колонке создания заказа: ', table_1.order_purchase_timestamp.isna().sum())"
   ]
  },
  {
   "cell_type": "markdown",
   "metadata": {},
   "source": [
    "#### Удаляем все значения NaN."
   ]
  },
  {
   "cell_type": "code",
   "execution_count": 11,
   "metadata": {},
   "outputs": [],
   "source": [
    "table_1.order_approved_at = table_1.order_approved_at.isna()\n",
    "table_1 = table_1[table_1.order_approved_at == False]"
   ]
  },
  {
   "cell_type": "markdown",
   "metadata": {},
   "source": [
    "#### Выделим количество пользователей с одним заказом."
   ]
  },
  {
   "cell_type": "code",
   "execution_count": 12,
   "metadata": {},
   "outputs": [],
   "source": [
    "table_1 = table_1.groupby('customer_unique_id').order_id.nunique()"
   ]
  },
  {
   "cell_type": "code",
   "execution_count": 13,
   "metadata": {},
   "outputs": [
    {
     "name": "stdout",
     "output_type": "stream",
     "text": [
      "\n",
      " Количество пользователей с одним заказом:  93049 \n",
      "\n"
     ]
    }
   ],
   "source": [
    "count_1 = table_1[table_1 == 1].shape[0]\n",
    "\n",
    "print('\\n', 'Количество пользователей с одним заказом: ', count_1, '\\n')"
   ]
  },
  {
   "cell_type": "markdown",
   "metadata": {},
   "source": [
    "## 2. Сколько заказов в месяц в среднем не доставляется по разным причинам (вывести детализацию по причинам)? \n",
    "\n",
    "#### Снова создадим таблицу для анализа.\n"
   ]
  },
  {
   "cell_type": "code",
   "execution_count": 14,
   "metadata": {},
   "outputs": [
    {
     "data": {
      "text/html": [
       "<div>\n",
       "<style scoped>\n",
       "    .dataframe tbody tr th:only-of-type {\n",
       "        vertical-align: middle;\n",
       "    }\n",
       "\n",
       "    .dataframe tbody tr th {\n",
       "        vertical-align: top;\n",
       "    }\n",
       "\n",
       "    .dataframe thead th {\n",
       "        text-align: right;\n",
       "    }\n",
       "</style>\n",
       "<table border=\"1\" class=\"dataframe\">\n",
       "  <thead>\n",
       "    <tr style=\"text-align: right;\">\n",
       "      <th></th>\n",
       "      <th>order_status</th>\n",
       "      <th>order_estimated_delivery_date</th>\n",
       "    </tr>\n",
       "  </thead>\n",
       "  <tbody>\n",
       "    <tr>\n",
       "      <th>0</th>\n",
       "      <td>delivered</td>\n",
       "      <td>2017-10-18</td>\n",
       "    </tr>\n",
       "    <tr>\n",
       "      <th>1</th>\n",
       "      <td>delivered</td>\n",
       "      <td>2018-08-13</td>\n",
       "    </tr>\n",
       "    <tr>\n",
       "      <th>2</th>\n",
       "      <td>delivered</td>\n",
       "      <td>2018-09-04</td>\n",
       "    </tr>\n",
       "    <tr>\n",
       "      <th>3</th>\n",
       "      <td>delivered</td>\n",
       "      <td>2017-12-15</td>\n",
       "    </tr>\n",
       "    <tr>\n",
       "      <th>4</th>\n",
       "      <td>delivered</td>\n",
       "      <td>2018-02-26</td>\n",
       "    </tr>\n",
       "  </tbody>\n",
       "</table>\n",
       "</div>"
      ],
      "text/plain": [
       "  order_status order_estimated_delivery_date\n",
       "0    delivered                    2017-10-18\n",
       "1    delivered                    2018-08-13\n",
       "2    delivered                    2018-09-04\n",
       "3    delivered                    2017-12-15\n",
       "4    delivered                    2018-02-26"
      ]
     },
     "execution_count": 14,
     "metadata": {},
     "output_type": "execute_result"
    }
   ],
   "source": [
    "table_2 = orders[['order_status', 'order_estimated_delivery_date']]\n",
    "table_2.head()"
   ]
  },
  {
   "cell_type": "markdown",
   "metadata": {},
   "source": [
    "#### Используем resample чтобы разбить данные по месяцам, а затем создадим сводную таблицу.  Оставим только заказы со статусом canceled и unavailible."
   ]
  },
  {
   "cell_type": "code",
   "execution_count": 15,
   "metadata": {},
   "outputs": [],
   "source": [
    "table_2 = table_2.sort_values(by = 'order_estimated_delivery_date')\n",
    "table_2 = table_2.rename(columns = {'order_estimated_delivery_date': 'months'})\n",
    "table_2.set_index('months', inplace = True)\n",
    "\n",
    "cancel = ['unavailable', 'canceled']\n",
    "table_2 = table_2.query('order_status == @cancel') \\\n",
    "                    .groupby('order_status') \\\n",
    "                    .resample(rule='MS').count() \\\n",
    "                    .rename(columns = {'order_status': 'count_order'}) \\\n",
    "                    .reset_index() \\\n",
    "                    .pivot(index = 'months', columns = 'order_status', values = 'count_order') \\\n",
    "                    .fillna(0)"
   ]
  },
  {
   "cell_type": "code",
   "execution_count": 16,
   "metadata": {},
   "outputs": [
    {
     "data": {
      "text/html": [
       "<div>\n",
       "<style scoped>\n",
       "    .dataframe tbody tr th:only-of-type {\n",
       "        vertical-align: middle;\n",
       "    }\n",
       "\n",
       "    .dataframe tbody tr th {\n",
       "        vertical-align: top;\n",
       "    }\n",
       "\n",
       "    .dataframe thead th {\n",
       "        text-align: right;\n",
       "    }\n",
       "</style>\n",
       "<table border=\"1\" class=\"dataframe\">\n",
       "  <thead>\n",
       "    <tr style=\"text-align: right;\">\n",
       "      <th>order_status</th>\n",
       "      <th>canceled</th>\n",
       "      <th>unavailable</th>\n",
       "    </tr>\n",
       "    <tr>\n",
       "      <th>months</th>\n",
       "      <th></th>\n",
       "      <th></th>\n",
       "    </tr>\n",
       "  </thead>\n",
       "  <tbody>\n",
       "    <tr>\n",
       "      <th>2016-09-01</th>\n",
       "      <td>1.0</td>\n",
       "      <td>0.0</td>\n",
       "    </tr>\n",
       "    <tr>\n",
       "      <th>2016-10-01</th>\n",
       "      <td>3.0</td>\n",
       "      <td>0.0</td>\n",
       "    </tr>\n",
       "    <tr>\n",
       "      <th>2016-11-01</th>\n",
       "      <td>14.0</td>\n",
       "      <td>5.0</td>\n",
       "    </tr>\n",
       "    <tr>\n",
       "      <th>2016-12-01</th>\n",
       "      <td>8.0</td>\n",
       "      <td>2.0</td>\n",
       "    </tr>\n",
       "    <tr>\n",
       "      <th>2017-01-01</th>\n",
       "      <td>0.0</td>\n",
       "      <td>0.0</td>\n",
       "    </tr>\n",
       "  </tbody>\n",
       "</table>\n",
       "</div>"
      ],
      "text/plain": [
       "order_status  canceled  unavailable\n",
       "months                             \n",
       "2016-09-01         1.0          0.0\n",
       "2016-10-01         3.0          0.0\n",
       "2016-11-01        14.0          5.0\n",
       "2016-12-01         8.0          2.0\n",
       "2017-01-01         0.0          0.0"
      ]
     },
     "execution_count": 16,
     "metadata": {},
     "output_type": "execute_result"
    }
   ],
   "source": [
    "table_2.head()"
   ]
  },
  {
   "cell_type": "markdown",
   "metadata": {},
   "source": [
    "#### Посмотрим сколько в среднем не доставляется в месяц заказов и построим гистограмму."
   ]
  },
  {
   "cell_type": "code",
   "execution_count": 17,
   "metadata": {},
   "outputs": [
    {
     "name": "stdout",
     "output_type": "stream",
     "text": [
      "В среднем в месяц не доставляют 23.1 заказа по причине canceled\n",
      "В среднем в месяц не доставляют 22.6 заказа по причине unavailable\n",
      "\n"
     ]
    }
   ],
   "source": [
    "print('В среднем в месяц не доставляют ', round(table_2.mean()[0], 1), ' заказа по причине ', table_2.columns[0], '\\n',\n",
    "      'В среднем в месяц не доставляют ', round(table_2.mean()[1], 1), ' заказа по причине ', table_2.columns[1], '\\n',\n",
    "      sep = '')"
   ]
  },
  {
   "cell_type": "code",
   "execution_count": 18,
   "metadata": {},
   "outputs": [
    {
     "data": {
      "text/plain": [
       "Text(0.5, 1.0, 'Детализация причин по которым не доставляются заказы')"
      ]
     },
     "execution_count": 18,
     "metadata": {},
     "output_type": "execute_result"
    },
    {
     "data": {
      "image/png": "[encoded data removed]",
      "text/plain": [
       "<Figure size 640x480 with 1 Axes>"
      ]
     },
     "metadata": {},
     "output_type": "display_data"
    }
   ],
   "source": [
    "table_2.mean().plot.bar()\n",
    "\n",
    "plt.xlabel('Причины')\n",
    "plt.ylabel('Количество')\n",
    "plt.title('Детализация причин по которым не доставляются заказы')"
   ]
  },
  {
   "cell_type": "markdown",
   "metadata": {},
   "source": [
    "#### Построим распределение причин по которым не доставляется товар по месяцам.\n",
    "Чтобы график ниже отобразился перезапустите ячейку"
   ]
  },
  {
   "cell_type": "code",
   "execution_count": 19,
   "metadata": {
    "scrolled": false
   },
   "outputs": [
    {
     "data": {
      "application/vnd.plotly.v1+json": {
       "config": {
        "plotlyServerURL": "https://plot.ly"
       },
       "data": [
        {
         "alignmentgroup": "True",
         "bingroup": "x",
         "histfunc": "sum",
         "hovertemplate": "variable=canceled<br>months=%{x}<br>sum of value=%{y}<extra></extra>",
         "legendgroup": "canceled",
         "marker": {
          "color": "#636efa",
          "pattern": {
           "shape": ""
          }
         },
         "name": "canceled",
         "nbinsx": 27,
         "offsetgroup": "canceled",
         "orientation": "v",
         "showlegend": true,
         "type": "histogram",
         "x": [
          "2016-09-01T00:00:00",
          "2016-10-01T00:00:00",
          "2016-11-01T00:00:00",
          "2016-12-01T00:00:00",
          "2017-01-01T00:00:00",
          "2017-02-01T00:00:00",
          "2017-03-01T00:00:00",
          "2017-04-01T00:00:00",
          "2017-05-01T00:00:00",
          "2017-06-01T00:00:00",
          "2017-07-01T00:00:00",
          "2017-08-01T00:00:00",
          "2017-09-01T00:00:00",
          "2017-10-01T00:00:00",
          "2017-11-01T00:00:00",
          "2017-12-01T00:00:00",
          "2018-01-01T00:00:00",
          "2018-02-01T00:00:00",
          "2018-03-01T00:00:00",
          "2018-04-01T00:00:00",
          "2018-05-01T00:00:00",
          "2018-06-01T00:00:00",
          "2018-07-01T00:00:00",
          "2018-08-01T00:00:00",
          "2018-09-01T00:00:00",
          "2018-10-01T00:00:00",
          "2018-11-01T00:00:00"
         ],
         "xaxis": "x",
         "y": [
          1,
          3,
          14,
          8,
          0,
          2,
          26,
          22,
          23,
          29,
          21,
          29,
          26,
          18,
          35,
          27,
          7,
          32,
          88,
          17,
          26,
          11,
          26,
          72,
          49,
          12,
          1
         ],
         "yaxis": "y"
        },
        {
         "alignmentgroup": "True",
         "bingroup": "x",
         "histfunc": "sum",
         "hovertemplate": "variable=unavailable<br>months=%{x}<br>sum of value=%{y}<extra></extra>",
         "legendgroup": "unavailable",
         "marker": {
          "color": "#EF553B",
          "pattern": {
           "shape": ""
          }
         },
         "name": "unavailable",
         "nbinsx": 27,
         "offsetgroup": "unavailable",
         "orientation": "v",
         "showlegend": true,
         "type": "histogram",
         "x": [
          "2016-09-01T00:00:00",
          "2016-10-01T00:00:00",
          "2016-11-01T00:00:00",
          "2016-12-01T00:00:00",
          "2017-01-01T00:00:00",
          "2017-02-01T00:00:00",
          "2017-03-01T00:00:00",
          "2017-04-01T00:00:00",
          "2017-05-01T00:00:00",
          "2017-06-01T00:00:00",
          "2017-07-01T00:00:00",
          "2017-08-01T00:00:00",
          "2017-09-01T00:00:00",
          "2017-10-01T00:00:00",
          "2017-11-01T00:00:00",
          "2017-12-01T00:00:00",
          "2018-01-01T00:00:00",
          "2018-02-01T00:00:00",
          "2018-03-01T00:00:00",
          "2018-04-01T00:00:00",
          "2018-05-01T00:00:00",
          "2018-06-01T00:00:00",
          "2018-07-01T00:00:00",
          "2018-08-01T00:00:00",
          "2018-09-01T00:00:00",
          "2018-10-01T00:00:00",
          "2018-11-01T00:00:00"
         ],
         "xaxis": "x",
         "y": [
          0,
          0,
          5,
          2,
          0,
          2,
          66,
          19,
          16,
          29,
          34,
          43,
          35,
          40,
          72,
          69,
          44,
          40,
          34,
          11,
          12,
          7,
          7,
          22,
          0,
          0,
          0
         ],
         "yaxis": "y"
        }
       ],
       "layout": {
        "barmode": "relative",
        "legend": {
         "title": {
          "text": "variable"
         },
         "tracegroupgap": 0
        },
        "template": {
         "data": {
          "bar": [
           {
            "error_x": {
             "color": "#2a3f5f"
            },
            "error_y": {
             "color": "#2a3f5f"
            },
            "marker": {
             "line": {
              "color": "#E5ECF6",
              "width": 0.5
             },
             "pattern": {
              "fillmode": "overlay",
              "size": 10,
              "solidity": 0.2
             }
            },
            "type": "bar"
           }
          ],
          "barpolar": [
           {
            "marker": {
             "line": {
              "color": "#E5ECF6",
              "width": 0.5
             },
             "pattern": {
              "fillmode": "overlay",
              "size": 10,
              "solidity": 0.2
             }
            },
            "type": "barpolar"
           }
          ],
          "carpet": [
           {
            "aaxis": {
             "endlinecolor": "#2a3f5f",
             "gridcolor": "white",
             "linecolor": "white",
             "minorgridcolor": "white",
             "startlinecolor": "#2a3f5f"
            },
            "baxis": {
             "endlinecolor": "#2a3f5f",
             "gridcolor": "white",
             "linecolor": "white",
             "minorgridcolor": "white",
             "startlinecolor": "#2a3f5f"
            },
            "type": "carpet"
           }
          ],
          "choropleth": [
           {
            "colorbar": {
             "outlinewidth": 0,
             "ticks": ""
            },
            "type": "choropleth"
           }
          ],
          "contour": [
           {
            "colorbar": {
             "outlinewidth": 0,
             "ticks": ""
            },
            "colorscale": [
             [
              0,
              "#0d0887"
             ],
             [
              0.1111111111111111,
              "#46039f"
             ],
             [
              0.2222222222222222,
              "#7201a8"
             ],
             [
              0.3333333333333333,
              "#9c179e"
             ],
             [
              0.4444444444444444,
              "#bd3786"
             ],
             [
              0.5555555555555556,
              "#d8576b"
             ],
             [
              0.6666666666666666,
              "#ed7953"
             ],
             [
              0.7777777777777778,
              "#fb9f3a"
             ],
             [
              0.8888888888888888,
              "#fdca26"
             ],
             [
              1,
              "#f0f921"
             ]
            ],
            "type": "contour"
           }
          ],
          "contourcarpet": [
           {
            "colorbar": {
             "outlinewidth": 0,
             "ticks": ""
            },
            "type": "contourcarpet"
           }
          ],
          "heatmap": [
           {
            "colorbar": {
             "outlinewidth": 0,
             "ticks": ""
            },
            "colorscale": [
             [
              0,
              "#0d0887"
             ],
             [
              0.1111111111111111,
              "#46039f"
             ],
             [
              0.2222222222222222,
              "#7201a8"
             ],
             [
              0.3333333333333333,
              "#9c179e"
             ],
             [
              0.4444444444444444,
              "#bd3786"
             ],
             [
              0.5555555555555556,
              "#d8576b"
             ],
             [
              0.6666666666666666,
              "#ed7953"
             ],
             [
              0.7777777777777778,
              "#fb9f3a"
             ],
             [
              0.8888888888888888,
              "#fdca26"
             ],
             [
              1,
              "#f0f921"
             ]
            ],
            "type": "heatmap"
           }
          ],
          "heatmapgl": [
           {
            "colorbar": {
             "outlinewidth": 0,
             "ticks": ""
            },
            "colorscale": [
             [
              0,
              "#0d0887"
             ],
             [
              0.1111111111111111,
              "#46039f"
             ],
             [
              0.2222222222222222,
              "#7201a8"
             ],
             [
              0.3333333333333333,
              "#9c179e"
             ],
             [
              0.4444444444444444,
              "#bd3786"
             ],
             [
              0.5555555555555556,
              "#d8576b"
             ],
             [
              0.6666666666666666,
              "#ed7953"
             ],
             [
              0.7777777777777778,
              "#fb9f3a"
             ],
             [
              0.8888888888888888,
              "#fdca26"
             ],
             [
              1,
              "#f0f921"
             ]
            ],
            "type": "heatmapgl"
           }
          ],
          "histogram": [
           {
            "marker": {
             "pattern": {
              "fillmode": "overlay",
              "size": 10,
              "solidity": 0.2
             }
            },
            "type": "histogram"
           }
          ],
          "histogram2d": [
           {
            "colorbar": {
             "outlinewidth": 0,
             "ticks": ""
            },
            "colorscale": [
             [
              0,
              "#0d0887"
             ],
             [
              0.1111111111111111,
              "#46039f"
             ],
             [
              0.2222222222222222,
              "#7201a8"
             ],
             [
              0.3333333333333333,
              "#9c179e"
             ],
             [
              0.4444444444444444,
              "#bd3786"
             ],
             [
              0.5555555555555556,
              "#d8576b"
             ],
             [
              0.6666666666666666,
              "#ed7953"
             ],
             [
              0.7777777777777778,
              "#fb9f3a"
             ],
             [
              0.8888888888888888,
              "#fdca26"
             ],
             [
              1,
              "#f0f921"
             ]
            ],
            "type": "histogram2d"
           }
          ],
          "histogram2dcontour": [
           {
            "colorbar": {
             "outlinewidth": 0,
             "ticks": ""
            },
            "colorscale": [
             [
              0,
              "#0d0887"
             ],
             [
              0.1111111111111111,
              "#46039f"
             ],
             [
              0.2222222222222222,
              "#7201a8"
             ],
             [
              0.3333333333333333,
              "#9c179e"
             ],
             [
              0.4444444444444444,
              "#bd3786"
             ],
             [
              0.5555555555555556,
              "#d8576b"
             ],
             [
              0.6666666666666666,
              "#ed7953"
             ],
             [
              0.7777777777777778,
              "#fb9f3a"
             ],
             [
              0.8888888888888888,
              "#fdca26"
             ],
             [
              1,
              "#f0f921"
             ]
            ],
            "type": "histogram2dcontour"
           }
          ],
          "mesh3d": [
           {
            "colorbar": {
             "outlinewidth": 0,
             "ticks": ""
            },
            "type": "mesh3d"
           }
          ],
          "parcoords": [
           {
            "line": {
             "colorbar": {
              "outlinewidth": 0,
              "ticks": ""
             }
            },
            "type": "parcoords"
           }
          ],
          "pie": [
           {
            "automargin": true,
            "type": "pie"
           }
          ],
          "scatter": [
           {
            "fillpattern": {
             "fillmode": "overlay",
             "size": 10,
             "solidity": 0.2
            },
            "type": "scatter"
           }
          ],
          "scatter3d": [
           {
            "line": {
             "colorbar": {
              "outlinewidth": 0,
              "ticks": ""
             }
            },
            "marker": {
             "colorbar": {
              "outlinewidth": 0,
              "ticks": ""
             }
            },
            "type": "scatter3d"
           }
          ],
          "scattercarpet": [
           {
            "marker": {
             "colorbar": {
              "outlinewidth": 0,
              "ticks": ""
             }
            },
            "type": "scattercarpet"
           }
          ],
          "scattergeo": [
           {
            "marker": {
             "colorbar": {
              "outlinewidth": 0,
              "ticks": ""
             }
            },
            "type": "scattergeo"
           }
          ],
          "scattergl": [
           {
            "marker": {
             "colorbar": {
              "outlinewidth": 0,
              "ticks": ""
             }
            },
            "type": "scattergl"
           }
          ],
          "scattermapbox": [
           {
            "marker": {
             "colorbar": {
              "outlinewidth": 0,
              "ticks": ""
             }
            },
            "type": "scattermapbox"
           }
          ],
          "scatterpolar": [
           {
            "marker": {
             "colorbar": {
              "outlinewidth": 0,
              "ticks": ""
             }
            },
            "type": "scatterpolar"
           }
          ],
          "scatterpolargl": [
           {
            "marker": {
             "colorbar": {
              "outlinewidth": 0,
              "ticks": ""
             }
            },
            "type": "scatterpolargl"
           }
          ],
          "scatterternary": [
           {
            "marker": {
             "colorbar": {
              "outlinewidth": 0,
              "ticks": ""
             }
            },
            "type": "scatterternary"
           }
          ],
          "surface": [
           {
            "colorbar": {
             "outlinewidth": 0,
             "ticks": ""
            },
            "colorscale": [
             [
              0,
              "#0d0887"
             ],
             [
              0.1111111111111111,
              "#46039f"
             ],
             [
              0.2222222222222222,
              "#7201a8"
             ],
             [
              0.3333333333333333,
              "#9c179e"
             ],
             [
              0.4444444444444444,
              "#bd3786"
             ],
             [
              0.5555555555555556,
              "#d8576b"
             ],
             [
              0.6666666666666666,
              "#ed7953"
             ],
             [
              0.7777777777777778,
              "#fb9f3a"
             ],
             [
              0.8888888888888888,
              "#fdca26"
             ],
             [
              1,
              "#f0f921"
             ]
            ],
            "type": "surface"
           }
          ],
          "table": [
           {
            "cells": {
             "fill": {
              "color": "#EBF0F8"
             },
             "line": {
              "color": "white"
             }
            },
            "header": {
             "fill": {
              "color": "#C8D4E3"
             },
             "line": {
              "color": "white"
             }
            },
            "type": "table"
           }
          ]
         },
         "layout": {
          "annotationdefaults": {
           "arrowcolor": "#2a3f5f",
           "arrowhead": 0,
           "arrowwidth": 1
          },
          "autotypenumbers": "strict",
          "coloraxis": {
           "colorbar": {
            "outlinewidth": 0,
            "ticks": ""
           }
          },
          "colorscale": {
           "diverging": [
            [
             0,
             "#8e0152"
            ],
            [
             0.1,
             "#c51b7d"
            ],
            [
             0.2,
             "#de77ae"
            ],
            [
             0.3,
             "#f1b6da"
            ],
            [
             0.4,
             "#fde0ef"
            ],
            [
             0.5,
             "#f7f7f7"
            ],
            [
             0.6,
             "#e6f5d0"
            ],
            [
             0.7,
             "#b8e186"
            ],
            [
             0.8,
             "#7fbc41"
            ],
            [
             0.9,
             "#4d9221"
            ],
            [
             1,
             "#276419"
            ]
           ],
           "sequential": [
            [
             0,
             "#0d0887"
            ],
            [
             0.1111111111111111,
             "#46039f"
            ],
            [
             0.2222222222222222,
             "#7201a8"
            ],
            [
             0.3333333333333333,
             "#9c179e"
            ],
            [
             0.4444444444444444,
             "#bd3786"
            ],
            [
             0.5555555555555556,
             "#d8576b"
            ],
            [
             0.6666666666666666,
             "#ed7953"
            ],
            [
             0.7777777777777778,
             "#fb9f3a"
            ],
            [
             0.8888888888888888,
             "#fdca26"
            ],
            [
             1,
             "#f0f921"
            ]
           ],
           "sequentialminus": [
            [
             0,
             "#0d0887"
            ],
            [
             0.1111111111111111,
             "#46039f"
            ],
            [
             0.2222222222222222,
             "#7201a8"
            ],
            [
             0.3333333333333333,
             "#9c179e"
            ],
            [
             0.4444444444444444,
             "#bd3786"
            ],
            [
             0.5555555555555556,
             "#d8576b"
            ],
            [
             0.6666666666666666,
             "#ed7953"
            ],
            [
             0.7777777777777778,
             "#fb9f3a"
            ],
            [
             0.8888888888888888,
             "#fdca26"
            ],
            [
             1,
             "#f0f921"
            ]
           ]
          },
          "colorway": [
           "#636efa",
           "#EF553B",
           "#00cc96",
           "#ab63fa",
           "#FFA15A",
           "#19d3f3",
           "#FF6692",
           "#B6E880",
           "#FF97FF",
           "#FECB52"
          ],
          "font": {
           "color": "#2a3f5f"
          },
          "geo": {
           "bgcolor": "white",
           "lakecolor": "white",
           "landcolor": "#E5ECF6",
           "showlakes": true,
           "showland": true,
           "subunitcolor": "white"
          },
          "hoverlabel": {
           "align": "left"
          },
          "hovermode": "closest",
          "mapbox": {
           "style": "light"
          },
          "paper_bgcolor": "white",
          "plot_bgcolor": "#E5ECF6",
          "polar": {
           "angularaxis": {
            "gridcolor": "white",
            "linecolor": "white",
            "ticks": ""
           },
           "bgcolor": "#E5ECF6",
           "radialaxis": {
            "gridcolor": "white",
            "linecolor": "white",
            "ticks": ""
           }
          },
          "scene": {
           "xaxis": {
            "backgroundcolor": "#E5ECF6",
            "gridcolor": "white",
            "gridwidth": 2,
            "linecolor": "white",
            "showbackground": true,
            "ticks": "",
            "zerolinecolor": "white"
           },
           "yaxis": {
            "backgroundcolor": "#E5ECF6",
            "gridcolor": "white",
            "gridwidth": 2,
            "linecolor": "white",
            "showbackground": true,
            "ticks": "",
            "zerolinecolor": "white"
           },
           "zaxis": {
            "backgroundcolor": "#E5ECF6",
            "gridcolor": "white",
            "gridwidth": 2,
            "linecolor": "white",
            "showbackground": true,
            "ticks": "",
            "zerolinecolor": "white"
           }
          },
          "shapedefaults": {
           "line": {
            "color": "#2a3f5f"
           }
          },
          "ternary": {
           "aaxis": {
            "gridcolor": "white",
            "linecolor": "white",
            "ticks": ""
           },
           "baxis": {
            "gridcolor": "white",
            "linecolor": "white",
            "ticks": ""
           },
           "bgcolor": "#E5ECF6",
           "caxis": {
            "gridcolor": "white",
            "linecolor": "white",
            "ticks": ""
           }
          },
          "title": {
           "x": 0.05
          },
          "xaxis": {
           "automargin": true,
           "gridcolor": "white",
           "linecolor": "white",
           "ticks": "",
           "title": {
            "standoff": 15
           },
           "zerolinecolor": "white",
           "zerolinewidth": 2
          },
          "yaxis": {
           "automargin": true,
           "gridcolor": "white",
           "linecolor": "white",
           "ticks": "",
           "title": {
            "standoff": 15
           },
           "zerolinecolor": "white",
           "zerolinewidth": 2
          }
         }
        },
        "title": {
         "text": "Распределение причин неудачной доставки по месяцам"
        },
        "xaxis": {
         "anchor": "y",
         "domain": [
          0,
          1
         ],
         "title": {
          "text": "months"
         }
        },
        "yaxis": {
         "anchor": "x",
         "domain": [
          0,
          1
         ],
         "title": {
          "text": "sum of value"
         }
        }
       }
      }
     },
     "metadata": {},
     "output_type": "display_data"
    }
   ],
   "source": [
    "fig = px.histogram(table_2.reset_index(), x='months', y = ['canceled', 'unavailable'], \n",
    "                   nbins = table_2.shape[0], labels={\n",
    "                   \"order_estimated_delivery_date\": \"Распределение по месяцам\"},\n",
    "                   title=\"Распределение причин неудачной доставки по месяцам\")\n",
    "fig.show()"
   ]
  },
  {
   "cell_type": "markdown",
   "metadata": {},
   "source": [
    "## 3. По каждому товару определить, в какой день недели товар чаще всего покупается.\n",
    "####  Табличка для анализа "
   ]
  },
  {
   "cell_type": "code",
   "execution_count": 20,
   "metadata": {},
   "outputs": [
    {
     "data": {
      "text/html": [
       "<div>\n",
       "<style scoped>\n",
       "    .dataframe tbody tr th:only-of-type {\n",
       "        vertical-align: middle;\n",
       "    }\n",
       "\n",
       "    .dataframe tbody tr th {\n",
       "        vertical-align: top;\n",
       "    }\n",
       "\n",
       "    .dataframe thead th {\n",
       "        text-align: right;\n",
       "    }\n",
       "</style>\n",
       "<table border=\"1\" class=\"dataframe\">\n",
       "  <thead>\n",
       "    <tr style=\"text-align: right;\">\n",
       "      <th></th>\n",
       "      <th>order_id</th>\n",
       "      <th>order_item_id</th>\n",
       "      <th>product_id</th>\n",
       "      <th>order_purchase_timestamp</th>\n",
       "    </tr>\n",
       "  </thead>\n",
       "  <tbody>\n",
       "    <tr>\n",
       "      <th>0</th>\n",
       "      <td>00010242fe8c5a6d1ba2dd792cb16214</td>\n",
       "      <td>1</td>\n",
       "      <td>4244733e06e7ecb4970a6e2683c13e61</td>\n",
       "      <td>2017-09-13 08:59:02</td>\n",
       "    </tr>\n",
       "    <tr>\n",
       "      <th>1</th>\n",
       "      <td>00018f77f2f0320c557190d7a144bdd3</td>\n",
       "      <td>1</td>\n",
       "      <td>e5f2d52b802189ee658865ca93d83a8f</td>\n",
       "      <td>2017-04-26 10:53:06</td>\n",
       "    </tr>\n",
       "    <tr>\n",
       "      <th>2</th>\n",
       "      <td>000229ec398224ef6ca0657da4fc703e</td>\n",
       "      <td>1</td>\n",
       "      <td>c777355d18b72b67abbeef9df44fd0fd</td>\n",
       "      <td>2018-01-14 14:33:31</td>\n",
       "    </tr>\n",
       "    <tr>\n",
       "      <th>3</th>\n",
       "      <td>00024acbcdf0a6daa1e931b038114c75</td>\n",
       "      <td>1</td>\n",
       "      <td>7634da152a4610f1595efa32f14722fc</td>\n",
       "      <td>2018-08-08 10:00:35</td>\n",
       "    </tr>\n",
       "    <tr>\n",
       "      <th>4</th>\n",
       "      <td>00042b26cf59d7ce69dfabb4e55b4fd9</td>\n",
       "      <td>1</td>\n",
       "      <td>ac6c3623068f30de03045865e4e10089</td>\n",
       "      <td>2017-02-04 13:57:51</td>\n",
       "    </tr>\n",
       "  </tbody>\n",
       "</table>\n",
       "</div>"
      ],
      "text/plain": [
       "                           order_id  order_item_id  \\\n",
       "0  00010242fe8c5a6d1ba2dd792cb16214              1   \n",
       "1  00018f77f2f0320c557190d7a144bdd3              1   \n",
       "2  000229ec398224ef6ca0657da4fc703e              1   \n",
       "3  00024acbcdf0a6daa1e931b038114c75              1   \n",
       "4  00042b26cf59d7ce69dfabb4e55b4fd9              1   \n",
       "\n",
       "                         product_id order_purchase_timestamp  \n",
       "0  4244733e06e7ecb4970a6e2683c13e61      2017-09-13 08:59:02  \n",
       "1  e5f2d52b802189ee658865ca93d83a8f      2017-04-26 10:53:06  \n",
       "2  c777355d18b72b67abbeef9df44fd0fd      2018-01-14 14:33:31  \n",
       "3  7634da152a4610f1595efa32f14722fc      2018-08-08 10:00:35  \n",
       "4  ac6c3623068f30de03045865e4e10089      2017-02-04 13:57:51  "
      ]
     },
     "execution_count": 20,
     "metadata": {},
     "output_type": "execute_result"
    }
   ],
   "source": [
    "table_3 = pd.merge(order_items[['order_id', 'order_item_id', 'product_id']], \n",
    "                  orders[['order_id', 'order_purchase_timestamp']], \n",
    "                  on = 'order_id', how = 'inner'\n",
    "                 )\n",
    "table_3.head()\n"
   ]
  },
  {
   "cell_type": "markdown",
   "metadata": {},
   "source": [
    " #### Создадим колонку с названием дня недели покупки, затем сгруппируемся по товару и с помощью value_counts найдем наиболее частый день."
   ]
  },
  {
   "cell_type": "code",
   "execution_count": 21,
   "metadata": {},
   "outputs": [],
   "source": [
    "table_3['weekday'] = table_3.order_purchase_timestamp.dt.day_name()\n",
    "table_3 = table_3.groupby('product_id', as_index = False).weekday.apply(lambda x: x.value_counts().index[0])"
   ]
  },
  {
   "cell_type": "code",
   "execution_count": 22,
   "metadata": {},
   "outputs": [
    {
     "data": {
      "text/html": [
       "<div>\n",
       "<style scoped>\n",
       "    .dataframe tbody tr th:only-of-type {\n",
       "        vertical-align: middle;\n",
       "    }\n",
       "\n",
       "    .dataframe tbody tr th {\n",
       "        vertical-align: top;\n",
       "    }\n",
       "\n",
       "    .dataframe thead th {\n",
       "        text-align: right;\n",
       "    }\n",
       "</style>\n",
       "<table border=\"1\" class=\"dataframe\">\n",
       "  <thead>\n",
       "    <tr style=\"text-align: right;\">\n",
       "      <th></th>\n",
       "      <th>product_id</th>\n",
       "      <th>weekday</th>\n",
       "    </tr>\n",
       "  </thead>\n",
       "  <tbody>\n",
       "    <tr>\n",
       "      <th>0</th>\n",
       "      <td>00066f42aeeb9f3007548bb9d3f33c38</td>\n",
       "      <td>Sunday</td>\n",
       "    </tr>\n",
       "    <tr>\n",
       "      <th>1</th>\n",
       "      <td>00088930e925c41fd95ebfe695fd2655</td>\n",
       "      <td>Tuesday</td>\n",
       "    </tr>\n",
       "    <tr>\n",
       "      <th>2</th>\n",
       "      <td>0009406fd7479715e4bef61dd91f2462</td>\n",
       "      <td>Thursday</td>\n",
       "    </tr>\n",
       "    <tr>\n",
       "      <th>3</th>\n",
       "      <td>000b8f95fcb9e0096488278317764d19</td>\n",
       "      <td>Friday</td>\n",
       "    </tr>\n",
       "    <tr>\n",
       "      <th>4</th>\n",
       "      <td>000d9be29b5207b54e86aa1b1ac54872</td>\n",
       "      <td>Tuesday</td>\n",
       "    </tr>\n",
       "  </tbody>\n",
       "</table>\n",
       "</div>"
      ],
      "text/plain": [
       "                         product_id   weekday\n",
       "0  00066f42aeeb9f3007548bb9d3f33c38    Sunday\n",
       "1  00088930e925c41fd95ebfe695fd2655   Tuesday\n",
       "2  0009406fd7479715e4bef61dd91f2462  Thursday\n",
       "3  000b8f95fcb9e0096488278317764d19    Friday\n",
       "4  000d9be29b5207b54e86aa1b1ac54872   Tuesday"
      ]
     },
     "execution_count": 22,
     "metadata": {},
     "output_type": "execute_result"
    }
   ],
   "source": [
    "table_3.head()"
   ]
  },
  {
   "cell_type": "markdown",
   "metadata": {},
   "source": [
    "## 4. Сколько у каждого из пользователей в среднем покупок в неделю (по месяцам)?"
   ]
  },
  {
   "cell_type": "code",
   "execution_count": 23,
   "metadata": {},
   "outputs": [],
   "source": [
    "table_4 = pd.merge(customers[['customer_id', 'customer_unique_id']],\n",
    "                  orders[['customer_id', 'order_id', 'order_purchase_timestamp', 'order_status']],\n",
    "                  on = 'customer_id', how = 'inner'\n",
    "                 )\n",
    "\n",
    "cancel = ['unavailable', 'canceled']\n",
    "table_4 = table_4.query('order_status != @cancel')"
   ]
  },
  {
   "cell_type": "code",
   "execution_count": 24,
   "metadata": {},
   "outputs": [
    {
     "data": {
      "text/html": [
       "<div>\n",
       "<style scoped>\n",
       "    .dataframe tbody tr th:only-of-type {\n",
       "        vertical-align: middle;\n",
       "    }\n",
       "\n",
       "    .dataframe tbody tr th {\n",
       "        vertical-align: top;\n",
       "    }\n",
       "\n",
       "    .dataframe thead th {\n",
       "        text-align: right;\n",
       "    }\n",
       "</style>\n",
       "<table border=\"1\" class=\"dataframe\">\n",
       "  <thead>\n",
       "    <tr style=\"text-align: right;\">\n",
       "      <th></th>\n",
       "      <th>customer_id</th>\n",
       "      <th>customer_unique_id</th>\n",
       "      <th>order_id</th>\n",
       "      <th>order_purchase_timestamp</th>\n",
       "      <th>order_status</th>\n",
       "    </tr>\n",
       "  </thead>\n",
       "  <tbody>\n",
       "    <tr>\n",
       "      <th>0</th>\n",
       "      <td>06b8999e2fba1a1fbc88172c00ba8bc7</td>\n",
       "      <td>861eff4711a542e4b93843c6dd7febb0</td>\n",
       "      <td>00e7ee1b050b8499577073aeb2a297a1</td>\n",
       "      <td>2017-05-16 15:05:35</td>\n",
       "      <td>delivered</td>\n",
       "    </tr>\n",
       "    <tr>\n",
       "      <th>1</th>\n",
       "      <td>18955e83d337fd6b2def6b18a428ac77</td>\n",
       "      <td>290c77bc529b7ac935b93aa66c333dc3</td>\n",
       "      <td>29150127e6685892b6eab3eec79f59c7</td>\n",
       "      <td>2018-01-12 20:48:24</td>\n",
       "      <td>delivered</td>\n",
       "    </tr>\n",
       "    <tr>\n",
       "      <th>2</th>\n",
       "      <td>4e7b3e00288586ebd08712fdd0374a03</td>\n",
       "      <td>060e732b5b29e8181a18229c7b0b2b5e</td>\n",
       "      <td>b2059ed67ce144a36e2aa97d2c9e9ad2</td>\n",
       "      <td>2018-05-19 16:07:45</td>\n",
       "      <td>delivered</td>\n",
       "    </tr>\n",
       "    <tr>\n",
       "      <th>3</th>\n",
       "      <td>b2b6027bc5c5109e529d4dc6358b12c3</td>\n",
       "      <td>259dac757896d24d7702b9acbbff3f3c</td>\n",
       "      <td>951670f92359f4fe4a63112aa7306eba</td>\n",
       "      <td>2018-03-13 16:06:38</td>\n",
       "      <td>delivered</td>\n",
       "    </tr>\n",
       "    <tr>\n",
       "      <th>4</th>\n",
       "      <td>4f2d8ab171c80ec8364f7c12e35b23ad</td>\n",
       "      <td>345ecd01c38d18a9036ed96c73b8d066</td>\n",
       "      <td>6b7d50bd145f6fc7f33cebabd7e49d0f</td>\n",
       "      <td>2018-07-29 09:51:30</td>\n",
       "      <td>delivered</td>\n",
       "    </tr>\n",
       "  </tbody>\n",
       "</table>\n",
       "</div>"
      ],
      "text/plain": [
       "                        customer_id                customer_unique_id  \\\n",
       "0  06b8999e2fba1a1fbc88172c00ba8bc7  861eff4711a542e4b93843c6dd7febb0   \n",
       "1  18955e83d337fd6b2def6b18a428ac77  290c77bc529b7ac935b93aa66c333dc3   \n",
       "2  4e7b3e00288586ebd08712fdd0374a03  060e732b5b29e8181a18229c7b0b2b5e   \n",
       "3  b2b6027bc5c5109e529d4dc6358b12c3  259dac757896d24d7702b9acbbff3f3c   \n",
       "4  4f2d8ab171c80ec8364f7c12e35b23ad  345ecd01c38d18a9036ed96c73b8d066   \n",
       "\n",
       "                           order_id order_purchase_timestamp order_status  \n",
       "0  00e7ee1b050b8499577073aeb2a297a1      2017-05-16 15:05:35    delivered  \n",
       "1  29150127e6685892b6eab3eec79f59c7      2018-01-12 20:48:24    delivered  \n",
       "2  b2059ed67ce144a36e2aa97d2c9e9ad2      2018-05-19 16:07:45    delivered  \n",
       "3  951670f92359f4fe4a63112aa7306eba      2018-03-13 16:06:38    delivered  \n",
       "4  6b7d50bd145f6fc7f33cebabd7e49d0f      2018-07-29 09:51:30    delivered  "
      ]
     },
     "execution_count": 24,
     "metadata": {},
     "output_type": "execute_result"
    }
   ],
   "source": [
    "table_4.head()"
   ]
  },
  {
   "cell_type": "code",
   "execution_count": 25,
   "metadata": {},
   "outputs": [],
   "source": [
    "table_4 = table_4 \\\n",
    "    .groupby(['customer_unique_id', 'order_purchase_timestamp'], as_index = False) \\\n",
    "    .agg({'order_id':'count'})"
   ]
  },
  {
   "cell_type": "code",
   "execution_count": 26,
   "metadata": {},
   "outputs": [
    {
     "data": {
      "text/html": [
       "<div>\n",
       "<style scoped>\n",
       "    .dataframe tbody tr th:only-of-type {\n",
       "        vertical-align: middle;\n",
       "    }\n",
       "\n",
       "    .dataframe tbody tr th {\n",
       "        vertical-align: top;\n",
       "    }\n",
       "\n",
       "    .dataframe thead th {\n",
       "        text-align: right;\n",
       "    }\n",
       "</style>\n",
       "<table border=\"1\" class=\"dataframe\">\n",
       "  <thead>\n",
       "    <tr style=\"text-align: right;\">\n",
       "      <th></th>\n",
       "      <th>customer_unique_id</th>\n",
       "      <th>order_purchase_timestamp</th>\n",
       "      <th>order_id</th>\n",
       "    </tr>\n",
       "  </thead>\n",
       "  <tbody>\n",
       "    <tr>\n",
       "      <th>0</th>\n",
       "      <td>0000366f3b9a7992bf8c76cfdf3221e2</td>\n",
       "      <td>2018-05-10 10:56:27</td>\n",
       "      <td>1</td>\n",
       "    </tr>\n",
       "    <tr>\n",
       "      <th>1</th>\n",
       "      <td>0000b849f77a49e4a4ce2b2a4ca5be3f</td>\n",
       "      <td>2018-05-07 11:11:27</td>\n",
       "      <td>1</td>\n",
       "    </tr>\n",
       "    <tr>\n",
       "      <th>2</th>\n",
       "      <td>0000f46a3911fa3c0805444483337064</td>\n",
       "      <td>2017-03-10 21:05:03</td>\n",
       "      <td>1</td>\n",
       "    </tr>\n",
       "    <tr>\n",
       "      <th>3</th>\n",
       "      <td>0000f6ccb0745a6a4b88665a16c9f078</td>\n",
       "      <td>2017-10-12 20:29:41</td>\n",
       "      <td>1</td>\n",
       "    </tr>\n",
       "    <tr>\n",
       "      <th>4</th>\n",
       "      <td>0004aac84e0df4da2b147fca70cf8255</td>\n",
       "      <td>2017-11-14 19:45:42</td>\n",
       "      <td>1</td>\n",
       "    </tr>\n",
       "  </tbody>\n",
       "</table>\n",
       "</div>"
      ],
      "text/plain": [
       "                 customer_unique_id order_purchase_timestamp  order_id\n",
       "0  0000366f3b9a7992bf8c76cfdf3221e2      2018-05-10 10:56:27         1\n",
       "1  0000b849f77a49e4a4ce2b2a4ca5be3f      2018-05-07 11:11:27         1\n",
       "2  0000f46a3911fa3c0805444483337064      2017-03-10 21:05:03         1\n",
       "3  0000f6ccb0745a6a4b88665a16c9f078      2017-10-12 20:29:41         1\n",
       "4  0004aac84e0df4da2b147fca70cf8255      2017-11-14 19:45:42         1"
      ]
     },
     "execution_count": 26,
     "metadata": {},
     "output_type": "execute_result"
    }
   ],
   "source": [
    "table_4.head()"
   ]
  },
  {
   "cell_type": "code",
   "execution_count": 27,
   "metadata": {},
   "outputs": [],
   "source": [
    "table_4['count_of_week'] = table_4.order_purchase_timestamp.dt.daysinmonth/7\n",
    "table_4['order_per_week'] = np.round(table_4.order_id/table_4.count_of_week, 3)\n",
    "table_4.drop(['count_of_week', 'order_id'], axis = 1, inplace = True)\n",
    "table_4.order_purchase_timestamp = table_4.order_purchase_timestamp.dt.strftime('%Y-%m')\n",
    "table_4.rename(columns = {\n",
    "                'order_purchase_timestamp':'month_of_order', \n",
    "                'customer_unique_id':'client_id'}, \n",
    "                inplace = True)"
   ]
  },
  {
   "cell_type": "code",
   "execution_count": 28,
   "metadata": {},
   "outputs": [
    {
     "data": {
      "text/html": [
       "<div>\n",
       "<style scoped>\n",
       "    .dataframe tbody tr th:only-of-type {\n",
       "        vertical-align: middle;\n",
       "    }\n",
       "\n",
       "    .dataframe tbody tr th {\n",
       "        vertical-align: top;\n",
       "    }\n",
       "\n",
       "    .dataframe thead th {\n",
       "        text-align: right;\n",
       "    }\n",
       "</style>\n",
       "<table border=\"1\" class=\"dataframe\">\n",
       "  <thead>\n",
       "    <tr style=\"text-align: right;\">\n",
       "      <th></th>\n",
       "      <th>client_id</th>\n",
       "      <th>month_of_order</th>\n",
       "      <th>order_per_week</th>\n",
       "    </tr>\n",
       "  </thead>\n",
       "  <tbody>\n",
       "    <tr>\n",
       "      <th>0</th>\n",
       "      <td>0000366f3b9a7992bf8c76cfdf3221e2</td>\n",
       "      <td>2018-05</td>\n",
       "      <td>0.226</td>\n",
       "    </tr>\n",
       "    <tr>\n",
       "      <th>1</th>\n",
       "      <td>0000b849f77a49e4a4ce2b2a4ca5be3f</td>\n",
       "      <td>2018-05</td>\n",
       "      <td>0.226</td>\n",
       "    </tr>\n",
       "    <tr>\n",
       "      <th>2</th>\n",
       "      <td>0000f46a3911fa3c0805444483337064</td>\n",
       "      <td>2017-03</td>\n",
       "      <td>0.226</td>\n",
       "    </tr>\n",
       "    <tr>\n",
       "      <th>3</th>\n",
       "      <td>0000f6ccb0745a6a4b88665a16c9f078</td>\n",
       "      <td>2017-10</td>\n",
       "      <td>0.226</td>\n",
       "    </tr>\n",
       "    <tr>\n",
       "      <th>4</th>\n",
       "      <td>0004aac84e0df4da2b147fca70cf8255</td>\n",
       "      <td>2017-11</td>\n",
       "      <td>0.233</td>\n",
       "    </tr>\n",
       "  </tbody>\n",
       "</table>\n",
       "</div>"
      ],
      "text/plain": [
       "                          client_id month_of_order  order_per_week\n",
       "0  0000366f3b9a7992bf8c76cfdf3221e2        2018-05           0.226\n",
       "1  0000b849f77a49e4a4ce2b2a4ca5be3f        2018-05           0.226\n",
       "2  0000f46a3911fa3c0805444483337064        2017-03           0.226\n",
       "3  0000f6ccb0745a6a4b88665a16c9f078        2017-10           0.226\n",
       "4  0004aac84e0df4da2b147fca70cf8255        2017-11           0.233"
      ]
     },
     "execution_count": 28,
     "metadata": {},
     "output_type": "execute_result"
    }
   ],
   "source": [
    "table_4.head()"
   ]
  },
  {
   "cell_type": "markdown",
   "metadata": {},
   "source": [
    "## 5. Используя pandas, провожу когортный анализ пользователей. В период с января по декабрь выявляю когорту с самым высоким retention на 3й месяц.\n",
    "Описание подхода тут (https://vc.ru/s/productstar/134090-chto-takoe-kogortnyy-analiz)\n",
    "#### Снова новая таблица"
   ]
  },
  {
   "cell_type": "code",
   "execution_count": 29,
   "metadata": {},
   "outputs": [],
   "source": [
    "table_5 = pd.merge(customers[['customer_id', 'customer_unique_id']],\n",
    "          orders[['customer_id', 'order_id', 'order_purchase_timestamp', 'order_status']],\n",
    "          on = 'customer_id', how = 'inner'\n",
    ")\n",
    "cancel = ['unavailable', 'canceled']\n",
    "table_5.query('order_status != @cancel', inplace = True)"
   ]
  },
  {
   "cell_type": "code",
   "execution_count": 30,
   "metadata": {},
   "outputs": [
    {
     "data": {
      "text/html": [
       "<div>\n",
       "<style scoped>\n",
       "    .dataframe tbody tr th:only-of-type {\n",
       "        vertical-align: middle;\n",
       "    }\n",
       "\n",
       "    .dataframe tbody tr th {\n",
       "        vertical-align: top;\n",
       "    }\n",
       "\n",
       "    .dataframe thead th {\n",
       "        text-align: right;\n",
       "    }\n",
       "</style>\n",
       "<table border=\"1\" class=\"dataframe\">\n",
       "  <thead>\n",
       "    <tr style=\"text-align: right;\">\n",
       "      <th></th>\n",
       "      <th>customer_id</th>\n",
       "      <th>customer_unique_id</th>\n",
       "      <th>order_id</th>\n",
       "      <th>order_purchase_timestamp</th>\n",
       "      <th>order_status</th>\n",
       "    </tr>\n",
       "  </thead>\n",
       "  <tbody>\n",
       "    <tr>\n",
       "      <th>0</th>\n",
       "      <td>06b8999e2fba1a1fbc88172c00ba8bc7</td>\n",
       "      <td>861eff4711a542e4b93843c6dd7febb0</td>\n",
       "      <td>00e7ee1b050b8499577073aeb2a297a1</td>\n",
       "      <td>2017-05-16 15:05:35</td>\n",
       "      <td>delivered</td>\n",
       "    </tr>\n",
       "    <tr>\n",
       "      <th>1</th>\n",
       "      <td>18955e83d337fd6b2def6b18a428ac77</td>\n",
       "      <td>290c77bc529b7ac935b93aa66c333dc3</td>\n",
       "      <td>29150127e6685892b6eab3eec79f59c7</td>\n",
       "      <td>2018-01-12 20:48:24</td>\n",
       "      <td>delivered</td>\n",
       "    </tr>\n",
       "    <tr>\n",
       "      <th>2</th>\n",
       "      <td>4e7b3e00288586ebd08712fdd0374a03</td>\n",
       "      <td>060e732b5b29e8181a18229c7b0b2b5e</td>\n",
       "      <td>b2059ed67ce144a36e2aa97d2c9e9ad2</td>\n",
       "      <td>2018-05-19 16:07:45</td>\n",
       "      <td>delivered</td>\n",
       "    </tr>\n",
       "    <tr>\n",
       "      <th>3</th>\n",
       "      <td>b2b6027bc5c5109e529d4dc6358b12c3</td>\n",
       "      <td>259dac757896d24d7702b9acbbff3f3c</td>\n",
       "      <td>951670f92359f4fe4a63112aa7306eba</td>\n",
       "      <td>2018-03-13 16:06:38</td>\n",
       "      <td>delivered</td>\n",
       "    </tr>\n",
       "    <tr>\n",
       "      <th>4</th>\n",
       "      <td>4f2d8ab171c80ec8364f7c12e35b23ad</td>\n",
       "      <td>345ecd01c38d18a9036ed96c73b8d066</td>\n",
       "      <td>6b7d50bd145f6fc7f33cebabd7e49d0f</td>\n",
       "      <td>2018-07-29 09:51:30</td>\n",
       "      <td>delivered</td>\n",
       "    </tr>\n",
       "  </tbody>\n",
       "</table>\n",
       "</div>"
      ],
      "text/plain": [
       "                        customer_id                customer_unique_id  \\\n",
       "0  06b8999e2fba1a1fbc88172c00ba8bc7  861eff4711a542e4b93843c6dd7febb0   \n",
       "1  18955e83d337fd6b2def6b18a428ac77  290c77bc529b7ac935b93aa66c333dc3   \n",
       "2  4e7b3e00288586ebd08712fdd0374a03  060e732b5b29e8181a18229c7b0b2b5e   \n",
       "3  b2b6027bc5c5109e529d4dc6358b12c3  259dac757896d24d7702b9acbbff3f3c   \n",
       "4  4f2d8ab171c80ec8364f7c12e35b23ad  345ecd01c38d18a9036ed96c73b8d066   \n",
       "\n",
       "                           order_id order_purchase_timestamp order_status  \n",
       "0  00e7ee1b050b8499577073aeb2a297a1      2017-05-16 15:05:35    delivered  \n",
       "1  29150127e6685892b6eab3eec79f59c7      2018-01-12 20:48:24    delivered  \n",
       "2  b2059ed67ce144a36e2aa97d2c9e9ad2      2018-05-19 16:07:45    delivered  \n",
       "3  951670f92359f4fe4a63112aa7306eba      2018-03-13 16:06:38    delivered  \n",
       "4  6b7d50bd145f6fc7f33cebabd7e49d0f      2018-07-29 09:51:30    delivered  "
      ]
     },
     "execution_count": 30,
     "metadata": {},
     "output_type": "execute_result"
    }
   ],
   "source": [
    "table_5.head()"
   ]
  },
  {
   "cell_type": "code",
   "execution_count": 31,
   "metadata": {},
   "outputs": [],
   "source": [
    "table_5['period'] = table_5.order_purchase_timestamp.dt.strftime('%Y/%m')"
   ]
  },
  {
   "cell_type": "code",
   "execution_count": 32,
   "metadata": {},
   "outputs": [],
   "source": [
    "cohort = table_5"
   ]
  },
  {
   "cell_type": "code",
   "execution_count": 33,
   "metadata": {},
   "outputs": [
    {
     "data": {
      "text/html": [
       "<div>\n",
       "<style scoped>\n",
       "    .dataframe tbody tr th:only-of-type {\n",
       "        vertical-align: middle;\n",
       "    }\n",
       "\n",
       "    .dataframe tbody tr th {\n",
       "        vertical-align: top;\n",
       "    }\n",
       "\n",
       "    .dataframe thead th {\n",
       "        text-align: right;\n",
       "    }\n",
       "</style>\n",
       "<table border=\"1\" class=\"dataframe\">\n",
       "  <thead>\n",
       "    <tr style=\"text-align: right;\">\n",
       "      <th></th>\n",
       "      <th>customer_id</th>\n",
       "      <th>customer_unique_id</th>\n",
       "      <th>order_id</th>\n",
       "      <th>order_purchase_timestamp</th>\n",
       "      <th>order_status</th>\n",
       "      <th>period</th>\n",
       "    </tr>\n",
       "  </thead>\n",
       "  <tbody>\n",
       "    <tr>\n",
       "      <th>0</th>\n",
       "      <td>06b8999e2fba1a1fbc88172c00ba8bc7</td>\n",
       "      <td>861eff4711a542e4b93843c6dd7febb0</td>\n",
       "      <td>00e7ee1b050b8499577073aeb2a297a1</td>\n",
       "      <td>2017-05-16 15:05:35</td>\n",
       "      <td>delivered</td>\n",
       "      <td>2017/05</td>\n",
       "    </tr>\n",
       "    <tr>\n",
       "      <th>1</th>\n",
       "      <td>18955e83d337fd6b2def6b18a428ac77</td>\n",
       "      <td>290c77bc529b7ac935b93aa66c333dc3</td>\n",
       "      <td>29150127e6685892b6eab3eec79f59c7</td>\n",
       "      <td>2018-01-12 20:48:24</td>\n",
       "      <td>delivered</td>\n",
       "      <td>2018/01</td>\n",
       "    </tr>\n",
       "    <tr>\n",
       "      <th>2</th>\n",
       "      <td>4e7b3e00288586ebd08712fdd0374a03</td>\n",
       "      <td>060e732b5b29e8181a18229c7b0b2b5e</td>\n",
       "      <td>b2059ed67ce144a36e2aa97d2c9e9ad2</td>\n",
       "      <td>2018-05-19 16:07:45</td>\n",
       "      <td>delivered</td>\n",
       "      <td>2018/05</td>\n",
       "    </tr>\n",
       "    <tr>\n",
       "      <th>3</th>\n",
       "      <td>b2b6027bc5c5109e529d4dc6358b12c3</td>\n",
       "      <td>259dac757896d24d7702b9acbbff3f3c</td>\n",
       "      <td>951670f92359f4fe4a63112aa7306eba</td>\n",
       "      <td>2018-03-13 16:06:38</td>\n",
       "      <td>delivered</td>\n",
       "      <td>2018/03</td>\n",
       "    </tr>\n",
       "    <tr>\n",
       "      <th>4</th>\n",
       "      <td>4f2d8ab171c80ec8364f7c12e35b23ad</td>\n",
       "      <td>345ecd01c38d18a9036ed96c73b8d066</td>\n",
       "      <td>6b7d50bd145f6fc7f33cebabd7e49d0f</td>\n",
       "      <td>2018-07-29 09:51:30</td>\n",
       "      <td>delivered</td>\n",
       "      <td>2018/07</td>\n",
       "    </tr>\n",
       "  </tbody>\n",
       "</table>\n",
       "</div>"
      ],
      "text/plain": [
       "                        customer_id                customer_unique_id  \\\n",
       "0  06b8999e2fba1a1fbc88172c00ba8bc7  861eff4711a542e4b93843c6dd7febb0   \n",
       "1  18955e83d337fd6b2def6b18a428ac77  290c77bc529b7ac935b93aa66c333dc3   \n",
       "2  4e7b3e00288586ebd08712fdd0374a03  060e732b5b29e8181a18229c7b0b2b5e   \n",
       "3  b2b6027bc5c5109e529d4dc6358b12c3  259dac757896d24d7702b9acbbff3f3c   \n",
       "4  4f2d8ab171c80ec8364f7c12e35b23ad  345ecd01c38d18a9036ed96c73b8d066   \n",
       "\n",
       "                           order_id order_purchase_timestamp order_status  \\\n",
       "0  00e7ee1b050b8499577073aeb2a297a1      2017-05-16 15:05:35    delivered   \n",
       "1  29150127e6685892b6eab3eec79f59c7      2018-01-12 20:48:24    delivered   \n",
       "2  b2059ed67ce144a36e2aa97d2c9e9ad2      2018-05-19 16:07:45    delivered   \n",
       "3  951670f92359f4fe4a63112aa7306eba      2018-03-13 16:06:38    delivered   \n",
       "4  6b7d50bd145f6fc7f33cebabd7e49d0f      2018-07-29 09:51:30    delivered   \n",
       "\n",
       "    period  \n",
       "0  2017/05  \n",
       "1  2018/01  \n",
       "2  2018/05  \n",
       "3  2018/03  \n",
       "4  2018/07  "
      ]
     },
     "execution_count": 33,
     "metadata": {},
     "output_type": "execute_result"
    }
   ],
   "source": [
    "cohort.head()"
   ]
  },
  {
   "cell_type": "code",
   "execution_count": 34,
   "metadata": {},
   "outputs": [],
   "source": [
    "first_order = cohort\\\n",
    "    .groupby(['customer_unique_id'], as_index=False)\\\n",
    "    .agg({'order_purchase_timestamp': 'min'})\\\n",
    "    .rename(columns={'order_purchase_timestamp': 'first_order'})"
   ]
  },
  {
   "cell_type": "code",
   "execution_count": 35,
   "metadata": {},
   "outputs": [
    {
     "data": {
      "text/html": [
       "<div>\n",
       "<style scoped>\n",
       "    .dataframe tbody tr th:only-of-type {\n",
       "        vertical-align: middle;\n",
       "    }\n",
       "\n",
       "    .dataframe tbody tr th {\n",
       "        vertical-align: top;\n",
       "    }\n",
       "\n",
       "    .dataframe thead th {\n",
       "        text-align: right;\n",
       "    }\n",
       "</style>\n",
       "<table border=\"1\" class=\"dataframe\">\n",
       "  <thead>\n",
       "    <tr style=\"text-align: right;\">\n",
       "      <th></th>\n",
       "      <th>customer_unique_id</th>\n",
       "      <th>first_order</th>\n",
       "    </tr>\n",
       "  </thead>\n",
       "  <tbody>\n",
       "    <tr>\n",
       "      <th>0</th>\n",
       "      <td>0000366f3b9a7992bf8c76cfdf3221e2</td>\n",
       "      <td>2018-05-10 10:56:27</td>\n",
       "    </tr>\n",
       "    <tr>\n",
       "      <th>1</th>\n",
       "      <td>0000b849f77a49e4a4ce2b2a4ca5be3f</td>\n",
       "      <td>2018-05-07 11:11:27</td>\n",
       "    </tr>\n",
       "    <tr>\n",
       "      <th>2</th>\n",
       "      <td>0000f46a3911fa3c0805444483337064</td>\n",
       "      <td>2017-03-10 21:05:03</td>\n",
       "    </tr>\n",
       "    <tr>\n",
       "      <th>3</th>\n",
       "      <td>0000f6ccb0745a6a4b88665a16c9f078</td>\n",
       "      <td>2017-10-12 20:29:41</td>\n",
       "    </tr>\n",
       "    <tr>\n",
       "      <th>4</th>\n",
       "      <td>0004aac84e0df4da2b147fca70cf8255</td>\n",
       "      <td>2017-11-14 19:45:42</td>\n",
       "    </tr>\n",
       "  </tbody>\n",
       "</table>\n",
       "</div>"
      ],
      "text/plain": [
       "                 customer_unique_id         first_order\n",
       "0  0000366f3b9a7992bf8c76cfdf3221e2 2018-05-10 10:56:27\n",
       "1  0000b849f77a49e4a4ce2b2a4ca5be3f 2018-05-07 11:11:27\n",
       "2  0000f46a3911fa3c0805444483337064 2017-03-10 21:05:03\n",
       "3  0000f6ccb0745a6a4b88665a16c9f078 2017-10-12 20:29:41\n",
       "4  0004aac84e0df4da2b147fca70cf8255 2017-11-14 19:45:42"
      ]
     },
     "execution_count": 35,
     "metadata": {},
     "output_type": "execute_result"
    }
   ],
   "source": [
    "first_order.head()"
   ]
  },
  {
   "cell_type": "code",
   "execution_count": 36,
   "metadata": {},
   "outputs": [],
   "source": [
    "first_order['period_first_order'] = first_order.first_order.dt.strftime('%Y/%m')"
   ]
  },
  {
   "cell_type": "code",
   "execution_count": 37,
   "metadata": {},
   "outputs": [],
   "source": [
    "cohort = cohort.merge(first_order, on='customer_unique_id')"
   ]
  },
  {
   "cell_type": "code",
   "execution_count": 38,
   "metadata": {},
   "outputs": [],
   "source": [
    "cohort['period'] = pd.to_datetime(cohort.period).dt.to_period('M')"
   ]
  },
  {
   "cell_type": "code",
   "execution_count": 39,
   "metadata": {},
   "outputs": [],
   "source": [
    "cohort['period_first_order'] = pd.to_datetime(cohort.period_first_order).dt.to_period('M')"
   ]
  },
  {
   "cell_type": "code",
   "execution_count": 40,
   "metadata": {},
   "outputs": [],
   "source": [
    "cohort['month'] = cohort['period'].sub(cohort['period_first_order'])\\\n",
    "                                                    .apply(lambda x: x.n)"
   ]
  },
  {
   "cell_type": "code",
   "execution_count": 41,
   "metadata": {},
   "outputs": [],
   "source": [
    "cohort1 = cohort.pivot_table(index='period_first_order', columns='month', \n",
    "                                     values='customer_unique_id', aggfunc='nunique')"
   ]
  },
  {
   "cell_type": "code",
   "execution_count": 42,
   "metadata": {},
   "outputs": [
    {
     "data": {
      "text/html": [
       "<div>\n",
       "<style scoped>\n",
       "    .dataframe tbody tr th:only-of-type {\n",
       "        vertical-align: middle;\n",
       "    }\n",
       "\n",
       "    .dataframe tbody tr th {\n",
       "        vertical-align: top;\n",
       "    }\n",
       "\n",
       "    .dataframe thead th {\n",
       "        text-align: right;\n",
       "    }\n",
       "</style>\n",
       "<table border=\"1\" class=\"dataframe\">\n",
       "  <thead>\n",
       "    <tr style=\"text-align: right;\">\n",
       "      <th>month</th>\n",
       "      <th>0</th>\n",
       "      <th>1</th>\n",
       "      <th>2</th>\n",
       "      <th>3</th>\n",
       "      <th>4</th>\n",
       "      <th>5</th>\n",
       "      <th>6</th>\n",
       "      <th>7</th>\n",
       "      <th>8</th>\n",
       "      <th>9</th>\n",
       "      <th>10</th>\n",
       "      <th>11</th>\n",
       "      <th>12</th>\n",
       "      <th>13</th>\n",
       "      <th>14</th>\n",
       "      <th>15</th>\n",
       "      <th>16</th>\n",
       "      <th>17</th>\n",
       "      <th>19</th>\n",
       "      <th>20</th>\n",
       "    </tr>\n",
       "    <tr>\n",
       "      <th>period_first_order</th>\n",
       "      <th></th>\n",
       "      <th></th>\n",
       "      <th></th>\n",
       "      <th></th>\n",
       "      <th></th>\n",
       "      <th></th>\n",
       "      <th></th>\n",
       "      <th></th>\n",
       "      <th></th>\n",
       "      <th></th>\n",
       "      <th></th>\n",
       "      <th></th>\n",
       "      <th></th>\n",
       "      <th></th>\n",
       "      <th></th>\n",
       "      <th></th>\n",
       "      <th></th>\n",
       "      <th></th>\n",
       "      <th></th>\n",
       "      <th></th>\n",
       "    </tr>\n",
       "  </thead>\n",
       "  <tbody>\n",
       "    <tr>\n",
       "      <th>2016-09</th>\n",
       "      <td>2.0</td>\n",
       "      <td>NaN</td>\n",
       "      <td>NaN</td>\n",
       "      <td>NaN</td>\n",
       "      <td>NaN</td>\n",
       "      <td>NaN</td>\n",
       "      <td>NaN</td>\n",
       "      <td>NaN</td>\n",
       "      <td>NaN</td>\n",
       "      <td>NaN</td>\n",
       "      <td>NaN</td>\n",
       "      <td>NaN</td>\n",
       "      <td>NaN</td>\n",
       "      <td>NaN</td>\n",
       "      <td>NaN</td>\n",
       "      <td>NaN</td>\n",
       "      <td>NaN</td>\n",
       "      <td>NaN</td>\n",
       "      <td>NaN</td>\n",
       "      <td>NaN</td>\n",
       "    </tr>\n",
       "    <tr>\n",
       "      <th>2016-10</th>\n",
       "      <td>290.0</td>\n",
       "      <td>NaN</td>\n",
       "      <td>NaN</td>\n",
       "      <td>NaN</td>\n",
       "      <td>NaN</td>\n",
       "      <td>NaN</td>\n",
       "      <td>1.0</td>\n",
       "      <td>NaN</td>\n",
       "      <td>NaN</td>\n",
       "      <td>1.0</td>\n",
       "      <td>NaN</td>\n",
       "      <td>1.0</td>\n",
       "      <td>NaN</td>\n",
       "      <td>1.0</td>\n",
       "      <td>NaN</td>\n",
       "      <td>1.0</td>\n",
       "      <td>NaN</td>\n",
       "      <td>1.0</td>\n",
       "      <td>2.0</td>\n",
       "      <td>2.0</td>\n",
       "    </tr>\n",
       "    <tr>\n",
       "      <th>2016-12</th>\n",
       "      <td>1.0</td>\n",
       "      <td>1.0</td>\n",
       "      <td>NaN</td>\n",
       "      <td>NaN</td>\n",
       "      <td>NaN</td>\n",
       "      <td>NaN</td>\n",
       "      <td>NaN</td>\n",
       "      <td>NaN</td>\n",
       "      <td>NaN</td>\n",
       "      <td>NaN</td>\n",
       "      <td>NaN</td>\n",
       "      <td>NaN</td>\n",
       "      <td>NaN</td>\n",
       "      <td>NaN</td>\n",
       "      <td>NaN</td>\n",
       "      <td>NaN</td>\n",
       "      <td>NaN</td>\n",
       "      <td>NaN</td>\n",
       "      <td>NaN</td>\n",
       "      <td>NaN</td>\n",
       "    </tr>\n",
       "    <tr>\n",
       "      <th>2017-01</th>\n",
       "      <td>752.0</td>\n",
       "      <td>3.0</td>\n",
       "      <td>2.0</td>\n",
       "      <td>1.0</td>\n",
       "      <td>3.0</td>\n",
       "      <td>1.0</td>\n",
       "      <td>3.0</td>\n",
       "      <td>1.0</td>\n",
       "      <td>1.0</td>\n",
       "      <td>NaN</td>\n",
       "      <td>3.0</td>\n",
       "      <td>1.0</td>\n",
       "      <td>5.0</td>\n",
       "      <td>3.0</td>\n",
       "      <td>1.0</td>\n",
       "      <td>1.0</td>\n",
       "      <td>2.0</td>\n",
       "      <td>3.0</td>\n",
       "      <td>1.0</td>\n",
       "      <td>NaN</td>\n",
       "    </tr>\n",
       "    <tr>\n",
       "      <th>2017-02</th>\n",
       "      <td>1690.0</td>\n",
       "      <td>4.0</td>\n",
       "      <td>5.0</td>\n",
       "      <td>2.0</td>\n",
       "      <td>7.0</td>\n",
       "      <td>2.0</td>\n",
       "      <td>4.0</td>\n",
       "      <td>3.0</td>\n",
       "      <td>2.0</td>\n",
       "      <td>3.0</td>\n",
       "      <td>2.0</td>\n",
       "      <td>5.0</td>\n",
       "      <td>2.0</td>\n",
       "      <td>3.0</td>\n",
       "      <td>2.0</td>\n",
       "      <td>1.0</td>\n",
       "      <td>1.0</td>\n",
       "      <td>4.0</td>\n",
       "      <td>NaN</td>\n",
       "      <td>NaN</td>\n",
       "    </tr>\n",
       "    <tr>\n",
       "      <th>2017-03</th>\n",
       "      <td>2571.0</td>\n",
       "      <td>13.0</td>\n",
       "      <td>9.0</td>\n",
       "      <td>10.0</td>\n",
       "      <td>9.0</td>\n",
       "      <td>4.0</td>\n",
       "      <td>4.0</td>\n",
       "      <td>8.0</td>\n",
       "      <td>9.0</td>\n",
       "      <td>2.0</td>\n",
       "      <td>10.0</td>\n",
       "      <td>3.0</td>\n",
       "      <td>6.0</td>\n",
       "      <td>3.0</td>\n",
       "      <td>4.0</td>\n",
       "      <td>6.0</td>\n",
       "      <td>2.0</td>\n",
       "      <td>4.0</td>\n",
       "      <td>NaN</td>\n",
       "      <td>NaN</td>\n",
       "    </tr>\n",
       "    <tr>\n",
       "      <th>2017-04</th>\n",
       "      <td>2325.0</td>\n",
       "      <td>14.0</td>\n",
       "      <td>5.0</td>\n",
       "      <td>4.0</td>\n",
       "      <td>7.0</td>\n",
       "      <td>6.0</td>\n",
       "      <td>8.0</td>\n",
       "      <td>7.0</td>\n",
       "      <td>7.0</td>\n",
       "      <td>4.0</td>\n",
       "      <td>6.0</td>\n",
       "      <td>2.0</td>\n",
       "      <td>2.0</td>\n",
       "      <td>1.0</td>\n",
       "      <td>2.0</td>\n",
       "      <td>2.0</td>\n",
       "      <td>3.0</td>\n",
       "      <td>NaN</td>\n",
       "      <td>NaN</td>\n",
       "      <td>NaN</td>\n",
       "    </tr>\n",
       "    <tr>\n",
       "      <th>2017-05</th>\n",
       "      <td>3541.0</td>\n",
       "      <td>17.0</td>\n",
       "      <td>17.0</td>\n",
       "      <td>14.0</td>\n",
       "      <td>11.0</td>\n",
       "      <td>12.0</td>\n",
       "      <td>15.0</td>\n",
       "      <td>5.0</td>\n",
       "      <td>9.0</td>\n",
       "      <td>9.0</td>\n",
       "      <td>9.0</td>\n",
       "      <td>12.0</td>\n",
       "      <td>9.0</td>\n",
       "      <td>1.0</td>\n",
       "      <td>7.0</td>\n",
       "      <td>8.0</td>\n",
       "      <td>NaN</td>\n",
       "      <td>NaN</td>\n",
       "      <td>NaN</td>\n",
       "      <td>NaN</td>\n",
       "    </tr>\n",
       "    <tr>\n",
       "      <th>2017-06</th>\n",
       "      <td>3102.0</td>\n",
       "      <td>14.0</td>\n",
       "      <td>11.0</td>\n",
       "      <td>12.0</td>\n",
       "      <td>8.0</td>\n",
       "      <td>12.0</td>\n",
       "      <td>11.0</td>\n",
       "      <td>7.0</td>\n",
       "      <td>4.0</td>\n",
       "      <td>7.0</td>\n",
       "      <td>10.0</td>\n",
       "      <td>10.0</td>\n",
       "      <td>5.0</td>\n",
       "      <td>4.0</td>\n",
       "      <td>6.0</td>\n",
       "      <td>NaN</td>\n",
       "      <td>NaN</td>\n",
       "      <td>NaN</td>\n",
       "      <td>NaN</td>\n",
       "      <td>NaN</td>\n",
       "    </tr>\n",
       "    <tr>\n",
       "      <th>2017-07</th>\n",
       "      <td>3822.0</td>\n",
       "      <td>20.0</td>\n",
       "      <td>13.0</td>\n",
       "      <td>9.0</td>\n",
       "      <td>11.0</td>\n",
       "      <td>8.0</td>\n",
       "      <td>12.0</td>\n",
       "      <td>4.0</td>\n",
       "      <td>7.0</td>\n",
       "      <td>10.0</td>\n",
       "      <td>8.0</td>\n",
       "      <td>11.0</td>\n",
       "      <td>5.0</td>\n",
       "      <td>10.0</td>\n",
       "      <td>NaN</td>\n",
       "      <td>NaN</td>\n",
       "      <td>NaN</td>\n",
       "      <td>NaN</td>\n",
       "      <td>NaN</td>\n",
       "      <td>NaN</td>\n",
       "    </tr>\n",
       "    <tr>\n",
       "      <th>2017-08</th>\n",
       "      <td>4130.0</td>\n",
       "      <td>28.0</td>\n",
       "      <td>14.0</td>\n",
       "      <td>11.0</td>\n",
       "      <td>15.0</td>\n",
       "      <td>22.0</td>\n",
       "      <td>12.0</td>\n",
       "      <td>11.0</td>\n",
       "      <td>6.0</td>\n",
       "      <td>6.0</td>\n",
       "      <td>10.0</td>\n",
       "      <td>8.0</td>\n",
       "      <td>5.0</td>\n",
       "      <td>NaN</td>\n",
       "      <td>NaN</td>\n",
       "      <td>NaN</td>\n",
       "      <td>NaN</td>\n",
       "      <td>NaN</td>\n",
       "      <td>NaN</td>\n",
       "      <td>NaN</td>\n",
       "    </tr>\n",
       "    <tr>\n",
       "      <th>2017-09</th>\n",
       "      <td>4075.0</td>\n",
       "      <td>28.0</td>\n",
       "      <td>22.0</td>\n",
       "      <td>12.0</td>\n",
       "      <td>18.0</td>\n",
       "      <td>9.0</td>\n",
       "      <td>9.0</td>\n",
       "      <td>10.0</td>\n",
       "      <td>12.0</td>\n",
       "      <td>7.0</td>\n",
       "      <td>11.0</td>\n",
       "      <td>3.0</td>\n",
       "      <td>NaN</td>\n",
       "      <td>NaN</td>\n",
       "      <td>NaN</td>\n",
       "      <td>NaN</td>\n",
       "      <td>NaN</td>\n",
       "      <td>NaN</td>\n",
       "      <td>NaN</td>\n",
       "      <td>NaN</td>\n",
       "    </tr>\n",
       "    <tr>\n",
       "      <th>2017-10</th>\n",
       "      <td>4392.0</td>\n",
       "      <td>31.0</td>\n",
       "      <td>11.0</td>\n",
       "      <td>4.0</td>\n",
       "      <td>10.0</td>\n",
       "      <td>9.0</td>\n",
       "      <td>9.0</td>\n",
       "      <td>16.0</td>\n",
       "      <td>12.0</td>\n",
       "      <td>9.0</td>\n",
       "      <td>9.0</td>\n",
       "      <td>NaN</td>\n",
       "      <td>NaN</td>\n",
       "      <td>NaN</td>\n",
       "      <td>NaN</td>\n",
       "      <td>NaN</td>\n",
       "      <td>NaN</td>\n",
       "      <td>NaN</td>\n",
       "      <td>NaN</td>\n",
       "      <td>NaN</td>\n",
       "    </tr>\n",
       "    <tr>\n",
       "      <th>2017-11</th>\n",
       "      <td>7190.0</td>\n",
       "      <td>40.0</td>\n",
       "      <td>28.0</td>\n",
       "      <td>12.0</td>\n",
       "      <td>14.0</td>\n",
       "      <td>13.0</td>\n",
       "      <td>8.0</td>\n",
       "      <td>14.0</td>\n",
       "      <td>9.0</td>\n",
       "      <td>4.0</td>\n",
       "      <td>NaN</td>\n",
       "      <td>NaN</td>\n",
       "      <td>NaN</td>\n",
       "      <td>NaN</td>\n",
       "      <td>NaN</td>\n",
       "      <td>NaN</td>\n",
       "      <td>NaN</td>\n",
       "      <td>NaN</td>\n",
       "      <td>NaN</td>\n",
       "      <td>NaN</td>\n",
       "    </tr>\n",
       "    <tr>\n",
       "      <th>2017-12</th>\n",
       "      <td>5439.0</td>\n",
       "      <td>12.0</td>\n",
       "      <td>15.0</td>\n",
       "      <td>19.0</td>\n",
       "      <td>14.0</td>\n",
       "      <td>11.0</td>\n",
       "      <td>9.0</td>\n",
       "      <td>2.0</td>\n",
       "      <td>12.0</td>\n",
       "      <td>NaN</td>\n",
       "      <td>NaN</td>\n",
       "      <td>NaN</td>\n",
       "      <td>NaN</td>\n",
       "      <td>NaN</td>\n",
       "      <td>NaN</td>\n",
       "      <td>NaN</td>\n",
       "      <td>NaN</td>\n",
       "      <td>NaN</td>\n",
       "      <td>NaN</td>\n",
       "      <td>NaN</td>\n",
       "    </tr>\n",
       "    <tr>\n",
       "      <th>2018-01</th>\n",
       "      <td>6951.0</td>\n",
       "      <td>23.0</td>\n",
       "      <td>25.0</td>\n",
       "      <td>20.0</td>\n",
       "      <td>20.0</td>\n",
       "      <td>11.0</td>\n",
       "      <td>12.0</td>\n",
       "      <td>16.0</td>\n",
       "      <td>NaN</td>\n",
       "      <td>NaN</td>\n",
       "      <td>NaN</td>\n",
       "      <td>NaN</td>\n",
       "      <td>NaN</td>\n",
       "      <td>NaN</td>\n",
       "      <td>NaN</td>\n",
       "      <td>NaN</td>\n",
       "      <td>NaN</td>\n",
       "      <td>NaN</td>\n",
       "      <td>NaN</td>\n",
       "      <td>NaN</td>\n",
       "    </tr>\n",
       "    <tr>\n",
       "      <th>2018-02</th>\n",
       "      <td>6357.0</td>\n",
       "      <td>23.0</td>\n",
       "      <td>25.0</td>\n",
       "      <td>19.0</td>\n",
       "      <td>17.0</td>\n",
       "      <td>14.0</td>\n",
       "      <td>13.0</td>\n",
       "      <td>NaN</td>\n",
       "      <td>NaN</td>\n",
       "      <td>NaN</td>\n",
       "      <td>NaN</td>\n",
       "      <td>NaN</td>\n",
       "      <td>NaN</td>\n",
       "      <td>NaN</td>\n",
       "      <td>NaN</td>\n",
       "      <td>NaN</td>\n",
       "      <td>NaN</td>\n",
       "      <td>NaN</td>\n",
       "      <td>NaN</td>\n",
       "      <td>NaN</td>\n",
       "    </tr>\n",
       "    <tr>\n",
       "      <th>2018-03</th>\n",
       "      <td>6931.0</td>\n",
       "      <td>28.0</td>\n",
       "      <td>21.0</td>\n",
       "      <td>20.0</td>\n",
       "      <td>9.0</td>\n",
       "      <td>8.0</td>\n",
       "      <td>NaN</td>\n",
       "      <td>NaN</td>\n",
       "      <td>NaN</td>\n",
       "      <td>NaN</td>\n",
       "      <td>NaN</td>\n",
       "      <td>NaN</td>\n",
       "      <td>NaN</td>\n",
       "      <td>NaN</td>\n",
       "      <td>NaN</td>\n",
       "      <td>NaN</td>\n",
       "      <td>NaN</td>\n",
       "      <td>NaN</td>\n",
       "      <td>NaN</td>\n",
       "      <td>NaN</td>\n",
       "    </tr>\n",
       "    <tr>\n",
       "      <th>2018-04</th>\n",
       "      <td>6698.0</td>\n",
       "      <td>39.0</td>\n",
       "      <td>21.0</td>\n",
       "      <td>16.0</td>\n",
       "      <td>9.0</td>\n",
       "      <td>NaN</td>\n",
       "      <td>NaN</td>\n",
       "      <td>NaN</td>\n",
       "      <td>NaN</td>\n",
       "      <td>NaN</td>\n",
       "      <td>NaN</td>\n",
       "      <td>NaN</td>\n",
       "      <td>NaN</td>\n",
       "      <td>NaN</td>\n",
       "      <td>NaN</td>\n",
       "      <td>NaN</td>\n",
       "      <td>NaN</td>\n",
       "      <td>NaN</td>\n",
       "      <td>NaN</td>\n",
       "      <td>NaN</td>\n",
       "    </tr>\n",
       "    <tr>\n",
       "      <th>2018-05</th>\n",
       "      <td>6586.0</td>\n",
       "      <td>34.0</td>\n",
       "      <td>17.0</td>\n",
       "      <td>13.0</td>\n",
       "      <td>NaN</td>\n",
       "      <td>NaN</td>\n",
       "      <td>NaN</td>\n",
       "      <td>NaN</td>\n",
       "      <td>NaN</td>\n",
       "      <td>NaN</td>\n",
       "      <td>NaN</td>\n",
       "      <td>NaN</td>\n",
       "      <td>NaN</td>\n",
       "      <td>NaN</td>\n",
       "      <td>NaN</td>\n",
       "      <td>NaN</td>\n",
       "      <td>NaN</td>\n",
       "      <td>NaN</td>\n",
       "      <td>NaN</td>\n",
       "      <td>NaN</td>\n",
       "    </tr>\n",
       "    <tr>\n",
       "      <th>2018-06</th>\n",
       "      <td>5920.0</td>\n",
       "      <td>25.0</td>\n",
       "      <td>16.0</td>\n",
       "      <td>NaN</td>\n",
       "      <td>NaN</td>\n",
       "      <td>NaN</td>\n",
       "      <td>NaN</td>\n",
       "      <td>NaN</td>\n",
       "      <td>NaN</td>\n",
       "      <td>NaN</td>\n",
       "      <td>NaN</td>\n",
       "      <td>NaN</td>\n",
       "      <td>NaN</td>\n",
       "      <td>NaN</td>\n",
       "      <td>NaN</td>\n",
       "      <td>NaN</td>\n",
       "      <td>NaN</td>\n",
       "      <td>NaN</td>\n",
       "      <td>NaN</td>\n",
       "      <td>NaN</td>\n",
       "    </tr>\n",
       "    <tr>\n",
       "      <th>2018-07</th>\n",
       "      <td>6016.0</td>\n",
       "      <td>31.0</td>\n",
       "      <td>NaN</td>\n",
       "      <td>NaN</td>\n",
       "      <td>NaN</td>\n",
       "      <td>NaN</td>\n",
       "      <td>NaN</td>\n",
       "      <td>NaN</td>\n",
       "      <td>NaN</td>\n",
       "      <td>NaN</td>\n",
       "      <td>NaN</td>\n",
       "      <td>NaN</td>\n",
       "      <td>NaN</td>\n",
       "      <td>NaN</td>\n",
       "      <td>NaN</td>\n",
       "      <td>NaN</td>\n",
       "      <td>NaN</td>\n",
       "      <td>NaN</td>\n",
       "      <td>NaN</td>\n",
       "      <td>NaN</td>\n",
       "    </tr>\n",
       "    <tr>\n",
       "      <th>2018-08</th>\n",
       "      <td>6209.0</td>\n",
       "      <td>1.0</td>\n",
       "      <td>NaN</td>\n",
       "      <td>NaN</td>\n",
       "      <td>NaN</td>\n",
       "      <td>NaN</td>\n",
       "      <td>NaN</td>\n",
       "      <td>NaN</td>\n",
       "      <td>NaN</td>\n",
       "      <td>NaN</td>\n",
       "      <td>NaN</td>\n",
       "      <td>NaN</td>\n",
       "      <td>NaN</td>\n",
       "      <td>NaN</td>\n",
       "      <td>NaN</td>\n",
       "      <td>NaN</td>\n",
       "      <td>NaN</td>\n",
       "      <td>NaN</td>\n",
       "      <td>NaN</td>\n",
       "      <td>NaN</td>\n",
       "    </tr>\n",
       "  </tbody>\n",
       "</table>\n",
       "</div>"
      ],
      "text/plain": [
       "month                   0     1     2     3     4     5     6     7     8   \\\n",
       "period_first_order                                                           \n",
       "2016-09                2.0   NaN   NaN   NaN   NaN   NaN   NaN   NaN   NaN   \n",
       "2016-10              290.0   NaN   NaN   NaN   NaN   NaN   1.0   NaN   NaN   \n",
       "2016-12                1.0   1.0   NaN   NaN   NaN   NaN   NaN   NaN   NaN   \n",
       "2017-01              752.0   3.0   2.0   1.0   3.0   1.0   3.0   1.0   1.0   \n",
       "2017-02             1690.0   4.0   5.0   2.0   7.0   2.0   4.0   3.0   2.0   \n",
       "2017-03             2571.0  13.0   9.0  10.0   9.0   4.0   4.0   8.0   9.0   \n",
       "2017-04             2325.0  14.0   5.0   4.0   7.0   6.0   8.0   7.0   7.0   \n",
       "2017-05             3541.0  17.0  17.0  14.0  11.0  12.0  15.0   5.0   9.0   \n",
       "2017-06             3102.0  14.0  11.0  12.0   8.0  12.0  11.0   7.0   4.0   \n",
       "2017-07             3822.0  20.0  13.0   9.0  11.0   8.0  12.0   4.0   7.0   \n",
       "2017-08             4130.0  28.0  14.0  11.0  15.0  22.0  12.0  11.0   6.0   \n",
       "2017-09             4075.0  28.0  22.0  12.0  18.0   9.0   9.0  10.0  12.0   \n",
       "2017-10             4392.0  31.0  11.0   4.0  10.0   9.0   9.0  16.0  12.0   \n",
       "2017-11             7190.0  40.0  28.0  12.0  14.0  13.0   8.0  14.0   9.0   \n",
       "2017-12             5439.0  12.0  15.0  19.0  14.0  11.0   9.0   2.0  12.0   \n",
       "2018-01             6951.0  23.0  25.0  20.0  20.0  11.0  12.0  16.0   NaN   \n",
       "2018-02             6357.0  23.0  25.0  19.0  17.0  14.0  13.0   NaN   NaN   \n",
       "2018-03             6931.0  28.0  21.0  20.0   9.0   8.0   NaN   NaN   NaN   \n",
       "2018-04             6698.0  39.0  21.0  16.0   9.0   NaN   NaN   NaN   NaN   \n",
       "2018-05             6586.0  34.0  17.0  13.0   NaN   NaN   NaN   NaN   NaN   \n",
       "2018-06             5920.0  25.0  16.0   NaN   NaN   NaN   NaN   NaN   NaN   \n",
       "2018-07             6016.0  31.0   NaN   NaN   NaN   NaN   NaN   NaN   NaN   \n",
       "2018-08             6209.0   1.0   NaN   NaN   NaN   NaN   NaN   NaN   NaN   \n",
       "\n",
       "month                 9     10    11   12    13   14   15   16   17   19   20  \n",
       "period_first_order                                                             \n",
       "2016-09              NaN   NaN   NaN  NaN   NaN  NaN  NaN  NaN  NaN  NaN  NaN  \n",
       "2016-10              1.0   NaN   1.0  NaN   1.0  NaN  1.0  NaN  1.0  2.0  2.0  \n",
       "2016-12              NaN   NaN   NaN  NaN   NaN  NaN  NaN  NaN  NaN  NaN  NaN  \n",
       "2017-01              NaN   3.0   1.0  5.0   3.0  1.0  1.0  2.0  3.0  1.0  NaN  \n",
       "2017-02              3.0   2.0   5.0  2.0   3.0  2.0  1.0  1.0  4.0  NaN  NaN  \n",
       "2017-03              2.0  10.0   3.0  6.0   3.0  4.0  6.0  2.0  4.0  NaN  NaN  \n",
       "2017-04              4.0   6.0   2.0  2.0   1.0  2.0  2.0  3.0  NaN  NaN  NaN  \n",
       "2017-05              9.0   9.0  12.0  9.0   1.0  7.0  8.0  NaN  NaN  NaN  NaN  \n",
       "2017-06              7.0  10.0  10.0  5.0   4.0  6.0  NaN  NaN  NaN  NaN  NaN  \n",
       "2017-07             10.0   8.0  11.0  5.0  10.0  NaN  NaN  NaN  NaN  NaN  NaN  \n",
       "2017-08              6.0  10.0   8.0  5.0   NaN  NaN  NaN  NaN  NaN  NaN  NaN  \n",
       "2017-09              7.0  11.0   3.0  NaN   NaN  NaN  NaN  NaN  NaN  NaN  NaN  \n",
       "2017-10              9.0   9.0   NaN  NaN   NaN  NaN  NaN  NaN  NaN  NaN  NaN  \n",
       "2017-11              4.0   NaN   NaN  NaN   NaN  NaN  NaN  NaN  NaN  NaN  NaN  \n",
       "2017-12              NaN   NaN   NaN  NaN   NaN  NaN  NaN  NaN  NaN  NaN  NaN  \n",
       "2018-01              NaN   NaN   NaN  NaN   NaN  NaN  NaN  NaN  NaN  NaN  NaN  \n",
       "2018-02              NaN   NaN   NaN  NaN   NaN  NaN  NaN  NaN  NaN  NaN  NaN  \n",
       "2018-03              NaN   NaN   NaN  NaN   NaN  NaN  NaN  NaN  NaN  NaN  NaN  \n",
       "2018-04              NaN   NaN   NaN  NaN   NaN  NaN  NaN  NaN  NaN  NaN  NaN  \n",
       "2018-05              NaN   NaN   NaN  NaN   NaN  NaN  NaN  NaN  NaN  NaN  NaN  \n",
       "2018-06              NaN   NaN   NaN  NaN   NaN  NaN  NaN  NaN  NaN  NaN  NaN  \n",
       "2018-07              NaN   NaN   NaN  NaN   NaN  NaN  NaN  NaN  NaN  NaN  NaN  \n",
       "2018-08              NaN   NaN   NaN  NaN   NaN  NaN  NaN  NaN  NaN  NaN  NaN  "
      ]
     },
     "execution_count": 42,
     "metadata": {},
     "output_type": "execute_result"
    }
   ],
   "source": [
    "cohort1"
   ]
  },
  {
   "cell_type": "code",
   "execution_count": 43,
   "metadata": {},
   "outputs": [],
   "source": [
    "cohort_size = cohort1.iloc[:, 0]\n",
    "retention_matrix = cohort1.divide(cohort_size, axis=0)"
   ]
  },
  {
   "cell_type": "code",
   "execution_count": 44,
   "metadata": {},
   "outputs": [],
   "source": [
    "retention_matrix = retention_matrix.query('period_first_order >= \"2017-01\" and period_first_order<\"2018-01\"')"
   ]
  },
  {
   "cell_type": "code",
   "execution_count": 45,
   "metadata": {},
   "outputs": [
    {
     "data": {
      "text/html": [
       "<div>\n",
       "<style scoped>\n",
       "    .dataframe tbody tr th:only-of-type {\n",
       "        vertical-align: middle;\n",
       "    }\n",
       "\n",
       "    .dataframe tbody tr th {\n",
       "        vertical-align: top;\n",
       "    }\n",
       "\n",
       "    .dataframe thead th {\n",
       "        text-align: right;\n",
       "    }\n",
       "</style>\n",
       "<table border=\"1\" class=\"dataframe\">\n",
       "  <thead>\n",
       "    <tr style=\"text-align: right;\">\n",
       "      <th>month</th>\n",
       "      <th>0</th>\n",
       "      <th>1</th>\n",
       "      <th>2</th>\n",
       "      <th>3</th>\n",
       "      <th>4</th>\n",
       "      <th>5</th>\n",
       "      <th>6</th>\n",
       "      <th>7</th>\n",
       "      <th>8</th>\n",
       "      <th>9</th>\n",
       "      <th>10</th>\n",
       "      <th>11</th>\n",
       "      <th>12</th>\n",
       "      <th>13</th>\n",
       "      <th>14</th>\n",
       "      <th>15</th>\n",
       "      <th>16</th>\n",
       "      <th>17</th>\n",
       "      <th>19</th>\n",
       "      <th>20</th>\n",
       "    </tr>\n",
       "    <tr>\n",
       "      <th>period_first_order</th>\n",
       "      <th></th>\n",
       "      <th></th>\n",
       "      <th></th>\n",
       "      <th></th>\n",
       "      <th></th>\n",
       "      <th></th>\n",
       "      <th></th>\n",
       "      <th></th>\n",
       "      <th></th>\n",
       "      <th></th>\n",
       "      <th></th>\n",
       "      <th></th>\n",
       "      <th></th>\n",
       "      <th></th>\n",
       "      <th></th>\n",
       "      <th></th>\n",
       "      <th></th>\n",
       "      <th></th>\n",
       "      <th></th>\n",
       "      <th></th>\n",
       "    </tr>\n",
       "  </thead>\n",
       "  <tbody>\n",
       "    <tr>\n",
       "      <th>2017-01</th>\n",
       "      <td>1.0</td>\n",
       "      <td>0.003989</td>\n",
       "      <td>0.002660</td>\n",
       "      <td>0.001330</td>\n",
       "      <td>0.003989</td>\n",
       "      <td>0.001330</td>\n",
       "      <td>0.003989</td>\n",
       "      <td>0.001330</td>\n",
       "      <td>0.001330</td>\n",
       "      <td>NaN</td>\n",
       "      <td>0.003989</td>\n",
       "      <td>0.001330</td>\n",
       "      <td>0.006649</td>\n",
       "      <td>0.003989</td>\n",
       "      <td>0.001330</td>\n",
       "      <td>0.001330</td>\n",
       "      <td>0.002660</td>\n",
       "      <td>0.003989</td>\n",
       "      <td>0.00133</td>\n",
       "      <td>NaN</td>\n",
       "    </tr>\n",
       "    <tr>\n",
       "      <th>2017-02</th>\n",
       "      <td>1.0</td>\n",
       "      <td>0.002367</td>\n",
       "      <td>0.002959</td>\n",
       "      <td>0.001183</td>\n",
       "      <td>0.004142</td>\n",
       "      <td>0.001183</td>\n",
       "      <td>0.002367</td>\n",
       "      <td>0.001775</td>\n",
       "      <td>0.001183</td>\n",
       "      <td>0.001775</td>\n",
       "      <td>0.001183</td>\n",
       "      <td>0.002959</td>\n",
       "      <td>0.001183</td>\n",
       "      <td>0.001775</td>\n",
       "      <td>0.001183</td>\n",
       "      <td>0.000592</td>\n",
       "      <td>0.000592</td>\n",
       "      <td>0.002367</td>\n",
       "      <td>NaN</td>\n",
       "      <td>NaN</td>\n",
       "    </tr>\n",
       "    <tr>\n",
       "      <th>2017-03</th>\n",
       "      <td>1.0</td>\n",
       "      <td>0.005056</td>\n",
       "      <td>0.003501</td>\n",
       "      <td>0.003890</td>\n",
       "      <td>0.003501</td>\n",
       "      <td>0.001556</td>\n",
       "      <td>0.001556</td>\n",
       "      <td>0.003112</td>\n",
       "      <td>0.003501</td>\n",
       "      <td>0.000778</td>\n",
       "      <td>0.003890</td>\n",
       "      <td>0.001167</td>\n",
       "      <td>0.002334</td>\n",
       "      <td>0.001167</td>\n",
       "      <td>0.001556</td>\n",
       "      <td>0.002334</td>\n",
       "      <td>0.000778</td>\n",
       "      <td>0.001556</td>\n",
       "      <td>NaN</td>\n",
       "      <td>NaN</td>\n",
       "    </tr>\n",
       "    <tr>\n",
       "      <th>2017-04</th>\n",
       "      <td>1.0</td>\n",
       "      <td>0.006022</td>\n",
       "      <td>0.002151</td>\n",
       "      <td>0.001720</td>\n",
       "      <td>0.003011</td>\n",
       "      <td>0.002581</td>\n",
       "      <td>0.003441</td>\n",
       "      <td>0.003011</td>\n",
       "      <td>0.003011</td>\n",
       "      <td>0.001720</td>\n",
       "      <td>0.002581</td>\n",
       "      <td>0.000860</td>\n",
       "      <td>0.000860</td>\n",
       "      <td>0.000430</td>\n",
       "      <td>0.000860</td>\n",
       "      <td>0.000860</td>\n",
       "      <td>0.001290</td>\n",
       "      <td>NaN</td>\n",
       "      <td>NaN</td>\n",
       "      <td>NaN</td>\n",
       "    </tr>\n",
       "    <tr>\n",
       "      <th>2017-05</th>\n",
       "      <td>1.0</td>\n",
       "      <td>0.004801</td>\n",
       "      <td>0.004801</td>\n",
       "      <td>0.003954</td>\n",
       "      <td>0.003106</td>\n",
       "      <td>0.003389</td>\n",
       "      <td>0.004236</td>\n",
       "      <td>0.001412</td>\n",
       "      <td>0.002542</td>\n",
       "      <td>0.002542</td>\n",
       "      <td>0.002542</td>\n",
       "      <td>0.003389</td>\n",
       "      <td>0.002542</td>\n",
       "      <td>0.000282</td>\n",
       "      <td>0.001977</td>\n",
       "      <td>0.002259</td>\n",
       "      <td>NaN</td>\n",
       "      <td>NaN</td>\n",
       "      <td>NaN</td>\n",
       "      <td>NaN</td>\n",
       "    </tr>\n",
       "    <tr>\n",
       "      <th>2017-06</th>\n",
       "      <td>1.0</td>\n",
       "      <td>0.004513</td>\n",
       "      <td>0.003546</td>\n",
       "      <td>0.003868</td>\n",
       "      <td>0.002579</td>\n",
       "      <td>0.003868</td>\n",
       "      <td>0.003546</td>\n",
       "      <td>0.002257</td>\n",
       "      <td>0.001289</td>\n",
       "      <td>0.002257</td>\n",
       "      <td>0.003224</td>\n",
       "      <td>0.003224</td>\n",
       "      <td>0.001612</td>\n",
       "      <td>0.001289</td>\n",
       "      <td>0.001934</td>\n",
       "      <td>NaN</td>\n",
       "      <td>NaN</td>\n",
       "      <td>NaN</td>\n",
       "      <td>NaN</td>\n",
       "      <td>NaN</td>\n",
       "    </tr>\n",
       "    <tr>\n",
       "      <th>2017-07</th>\n",
       "      <td>1.0</td>\n",
       "      <td>0.005233</td>\n",
       "      <td>0.003401</td>\n",
       "      <td>0.002355</td>\n",
       "      <td>0.002878</td>\n",
       "      <td>0.002093</td>\n",
       "      <td>0.003140</td>\n",
       "      <td>0.001047</td>\n",
       "      <td>0.001832</td>\n",
       "      <td>0.002616</td>\n",
       "      <td>0.002093</td>\n",
       "      <td>0.002878</td>\n",
       "      <td>0.001308</td>\n",
       "      <td>0.002616</td>\n",
       "      <td>NaN</td>\n",
       "      <td>NaN</td>\n",
       "      <td>NaN</td>\n",
       "      <td>NaN</td>\n",
       "      <td>NaN</td>\n",
       "      <td>NaN</td>\n",
       "    </tr>\n",
       "    <tr>\n",
       "      <th>2017-08</th>\n",
       "      <td>1.0</td>\n",
       "      <td>0.006780</td>\n",
       "      <td>0.003390</td>\n",
       "      <td>0.002663</td>\n",
       "      <td>0.003632</td>\n",
       "      <td>0.005327</td>\n",
       "      <td>0.002906</td>\n",
       "      <td>0.002663</td>\n",
       "      <td>0.001453</td>\n",
       "      <td>0.001453</td>\n",
       "      <td>0.002421</td>\n",
       "      <td>0.001937</td>\n",
       "      <td>0.001211</td>\n",
       "      <td>NaN</td>\n",
       "      <td>NaN</td>\n",
       "      <td>NaN</td>\n",
       "      <td>NaN</td>\n",
       "      <td>NaN</td>\n",
       "      <td>NaN</td>\n",
       "      <td>NaN</td>\n",
       "    </tr>\n",
       "    <tr>\n",
       "      <th>2017-09</th>\n",
       "      <td>1.0</td>\n",
       "      <td>0.006871</td>\n",
       "      <td>0.005399</td>\n",
       "      <td>0.002945</td>\n",
       "      <td>0.004417</td>\n",
       "      <td>0.002209</td>\n",
       "      <td>0.002209</td>\n",
       "      <td>0.002454</td>\n",
       "      <td>0.002945</td>\n",
       "      <td>0.001718</td>\n",
       "      <td>0.002699</td>\n",
       "      <td>0.000736</td>\n",
       "      <td>NaN</td>\n",
       "      <td>NaN</td>\n",
       "      <td>NaN</td>\n",
       "      <td>NaN</td>\n",
       "      <td>NaN</td>\n",
       "      <td>NaN</td>\n",
       "      <td>NaN</td>\n",
       "      <td>NaN</td>\n",
       "    </tr>\n",
       "    <tr>\n",
       "      <th>2017-10</th>\n",
       "      <td>1.0</td>\n",
       "      <td>0.007058</td>\n",
       "      <td>0.002505</td>\n",
       "      <td>0.000911</td>\n",
       "      <td>0.002277</td>\n",
       "      <td>0.002049</td>\n",
       "      <td>0.002049</td>\n",
       "      <td>0.003643</td>\n",
       "      <td>0.002732</td>\n",
       "      <td>0.002049</td>\n",
       "      <td>0.002049</td>\n",
       "      <td>NaN</td>\n",
       "      <td>NaN</td>\n",
       "      <td>NaN</td>\n",
       "      <td>NaN</td>\n",
       "      <td>NaN</td>\n",
       "      <td>NaN</td>\n",
       "      <td>NaN</td>\n",
       "      <td>NaN</td>\n",
       "      <td>NaN</td>\n",
       "    </tr>\n",
       "    <tr>\n",
       "      <th>2017-11</th>\n",
       "      <td>1.0</td>\n",
       "      <td>0.005563</td>\n",
       "      <td>0.003894</td>\n",
       "      <td>0.001669</td>\n",
       "      <td>0.001947</td>\n",
       "      <td>0.001808</td>\n",
       "      <td>0.001113</td>\n",
       "      <td>0.001947</td>\n",
       "      <td>0.001252</td>\n",
       "      <td>0.000556</td>\n",
       "      <td>NaN</td>\n",
       "      <td>NaN</td>\n",
       "      <td>NaN</td>\n",
       "      <td>NaN</td>\n",
       "      <td>NaN</td>\n",
       "      <td>NaN</td>\n",
       "      <td>NaN</td>\n",
       "      <td>NaN</td>\n",
       "      <td>NaN</td>\n",
       "      <td>NaN</td>\n",
       "    </tr>\n",
       "    <tr>\n",
       "      <th>2017-12</th>\n",
       "      <td>1.0</td>\n",
       "      <td>0.002206</td>\n",
       "      <td>0.002758</td>\n",
       "      <td>0.003493</td>\n",
       "      <td>0.002574</td>\n",
       "      <td>0.002022</td>\n",
       "      <td>0.001655</td>\n",
       "      <td>0.000368</td>\n",
       "      <td>0.002206</td>\n",
       "      <td>NaN</td>\n",
       "      <td>NaN</td>\n",
       "      <td>NaN</td>\n",
       "      <td>NaN</td>\n",
       "      <td>NaN</td>\n",
       "      <td>NaN</td>\n",
       "      <td>NaN</td>\n",
       "      <td>NaN</td>\n",
       "      <td>NaN</td>\n",
       "      <td>NaN</td>\n",
       "      <td>NaN</td>\n",
       "    </tr>\n",
       "  </tbody>\n",
       "</table>\n",
       "</div>"
      ],
      "text/plain": [
       "month                0         1         2         3         4         5   \\\n",
       "period_first_order                                                          \n",
       "2017-01             1.0  0.003989  0.002660  0.001330  0.003989  0.001330   \n",
       "2017-02             1.0  0.002367  0.002959  0.001183  0.004142  0.001183   \n",
       "2017-03             1.0  0.005056  0.003501  0.003890  0.003501  0.001556   \n",
       "2017-04             1.0  0.006022  0.002151  0.001720  0.003011  0.002581   \n",
       "2017-05             1.0  0.004801  0.004801  0.003954  0.003106  0.003389   \n",
       "2017-06             1.0  0.004513  0.003546  0.003868  0.002579  0.003868   \n",
       "2017-07             1.0  0.005233  0.003401  0.002355  0.002878  0.002093   \n",
       "2017-08             1.0  0.006780  0.003390  0.002663  0.003632  0.005327   \n",
       "2017-09             1.0  0.006871  0.005399  0.002945  0.004417  0.002209   \n",
       "2017-10             1.0  0.007058  0.002505  0.000911  0.002277  0.002049   \n",
       "2017-11             1.0  0.005563  0.003894  0.001669  0.001947  0.001808   \n",
       "2017-12             1.0  0.002206  0.002758  0.003493  0.002574  0.002022   \n",
       "\n",
       "month                     6         7         8         9         10  \\\n",
       "period_first_order                                                     \n",
       "2017-01             0.003989  0.001330  0.001330       NaN  0.003989   \n",
       "2017-02             0.002367  0.001775  0.001183  0.001775  0.001183   \n",
       "2017-03             0.001556  0.003112  0.003501  0.000778  0.003890   \n",
       "2017-04             0.003441  0.003011  0.003011  0.001720  0.002581   \n",
       "2017-05             0.004236  0.001412  0.002542  0.002542  0.002542   \n",
       "2017-06             0.003546  0.002257  0.001289  0.002257  0.003224   \n",
       "2017-07             0.003140  0.001047  0.001832  0.002616  0.002093   \n",
       "2017-08             0.002906  0.002663  0.001453  0.001453  0.002421   \n",
       "2017-09             0.002209  0.002454  0.002945  0.001718  0.002699   \n",
       "2017-10             0.002049  0.003643  0.002732  0.002049  0.002049   \n",
       "2017-11             0.001113  0.001947  0.001252  0.000556       NaN   \n",
       "2017-12             0.001655  0.000368  0.002206       NaN       NaN   \n",
       "\n",
       "month                     11        12        13        14        15  \\\n",
       "period_first_order                                                     \n",
       "2017-01             0.001330  0.006649  0.003989  0.001330  0.001330   \n",
       "2017-02             0.002959  0.001183  0.001775  0.001183  0.000592   \n",
       "2017-03             0.001167  0.002334  0.001167  0.001556  0.002334   \n",
       "2017-04             0.000860  0.000860  0.000430  0.000860  0.000860   \n",
       "2017-05             0.003389  0.002542  0.000282  0.001977  0.002259   \n",
       "2017-06             0.003224  0.001612  0.001289  0.001934       NaN   \n",
       "2017-07             0.002878  0.001308  0.002616       NaN       NaN   \n",
       "2017-08             0.001937  0.001211       NaN       NaN       NaN   \n",
       "2017-09             0.000736       NaN       NaN       NaN       NaN   \n",
       "2017-10                  NaN       NaN       NaN       NaN       NaN   \n",
       "2017-11                  NaN       NaN       NaN       NaN       NaN   \n",
       "2017-12                  NaN       NaN       NaN       NaN       NaN   \n",
       "\n",
       "month                     16        17       19  20  \n",
       "period_first_order                                   \n",
       "2017-01             0.002660  0.003989  0.00133 NaN  \n",
       "2017-02             0.000592  0.002367      NaN NaN  \n",
       "2017-03             0.000778  0.001556      NaN NaN  \n",
       "2017-04             0.001290       NaN      NaN NaN  \n",
       "2017-05                  NaN       NaN      NaN NaN  \n",
       "2017-06                  NaN       NaN      NaN NaN  \n",
       "2017-07                  NaN       NaN      NaN NaN  \n",
       "2017-08                  NaN       NaN      NaN NaN  \n",
       "2017-09                  NaN       NaN      NaN NaN  \n",
       "2017-10                  NaN       NaN      NaN NaN  \n",
       "2017-11                  NaN       NaN      NaN NaN  \n",
       "2017-12                  NaN       NaN      NaN NaN  "
      ]
     },
     "execution_count": 45,
     "metadata": {},
     "output_type": "execute_result"
    }
   ],
   "source": [
    "retention_matrix"
   ]
  },
  {
   "cell_type": "code",
   "execution_count": 46,
   "metadata": {},
   "outputs": [
    {
     "data": {
      "text/html": [
       "<style type=\"text/css\">\n",
       "</style>\n",
       "<table id=\"T_9b649\">\n",
       "  <caption>User retention by cohort</caption>\n",
       "  <thead>\n",
       "    <tr>\n",
       "      <th class=\"index_name level0\" >month</th>\n",
       "      <th id=\"T_9b649_level0_col0\" class=\"col_heading level0 col0\" >0</th>\n",
       "      <th id=\"T_9b649_level0_col1\" class=\"col_heading level0 col1\" >1</th>\n",
       "      <th id=\"T_9b649_level0_col2\" class=\"col_heading level0 col2\" >2</th>\n",
       "      <th id=\"T_9b649_level0_col3\" class=\"col_heading level0 col3\" >3</th>\n",
       "      <th id=\"T_9b649_level0_col4\" class=\"col_heading level0 col4\" >4</th>\n",
       "      <th id=\"T_9b649_level0_col5\" class=\"col_heading level0 col5\" >5</th>\n",
       "      <th id=\"T_9b649_level0_col6\" class=\"col_heading level0 col6\" >6</th>\n",
       "      <th id=\"T_9b649_level0_col7\" class=\"col_heading level0 col7\" >7</th>\n",
       "      <th id=\"T_9b649_level0_col8\" class=\"col_heading level0 col8\" >8</th>\n",
       "      <th id=\"T_9b649_level0_col9\" class=\"col_heading level0 col9\" >9</th>\n",
       "      <th id=\"T_9b649_level0_col10\" class=\"col_heading level0 col10\" >10</th>\n",
       "      <th id=\"T_9b649_level0_col11\" class=\"col_heading level0 col11\" >11</th>\n",
       "      <th id=\"T_9b649_level0_col12\" class=\"col_heading level0 col12\" >12</th>\n",
       "      <th id=\"T_9b649_level0_col13\" class=\"col_heading level0 col13\" >13</th>\n",
       "      <th id=\"T_9b649_level0_col14\" class=\"col_heading level0 col14\" >14</th>\n",
       "      <th id=\"T_9b649_level0_col15\" class=\"col_heading level0 col15\" >15</th>\n",
       "      <th id=\"T_9b649_level0_col16\" class=\"col_heading level0 col16\" >16</th>\n",
       "      <th id=\"T_9b649_level0_col17\" class=\"col_heading level0 col17\" >17</th>\n",
       "      <th id=\"T_9b649_level0_col18\" class=\"col_heading level0 col18\" >19</th>\n",
       "      <th id=\"T_9b649_level0_col19\" class=\"col_heading level0 col19\" >20</th>\n",
       "    </tr>\n",
       "    <tr>\n",
       "      <th class=\"index_name level0\" >period_first_order</th>\n",
       "      <th class=\"blank col0\" >&nbsp;</th>\n",
       "      <th class=\"blank col1\" >&nbsp;</th>\n",
       "      <th class=\"blank col2\" >&nbsp;</th>\n",
       "      <th class=\"blank col3\" >&nbsp;</th>\n",
       "      <th class=\"blank col4\" >&nbsp;</th>\n",
       "      <th class=\"blank col5\" >&nbsp;</th>\n",
       "      <th class=\"blank col6\" >&nbsp;</th>\n",
       "      <th class=\"blank col7\" >&nbsp;</th>\n",
       "      <th class=\"blank col8\" >&nbsp;</th>\n",
       "      <th class=\"blank col9\" >&nbsp;</th>\n",
       "      <th class=\"blank col10\" >&nbsp;</th>\n",
       "      <th class=\"blank col11\" >&nbsp;</th>\n",
       "      <th class=\"blank col12\" >&nbsp;</th>\n",
       "      <th class=\"blank col13\" >&nbsp;</th>\n",
       "      <th class=\"blank col14\" >&nbsp;</th>\n",
       "      <th class=\"blank col15\" >&nbsp;</th>\n",
       "      <th class=\"blank col16\" >&nbsp;</th>\n",
       "      <th class=\"blank col17\" >&nbsp;</th>\n",
       "      <th class=\"blank col18\" >&nbsp;</th>\n",
       "      <th class=\"blank col19\" >&nbsp;</th>\n",
       "    </tr>\n",
       "  </thead>\n",
       "  <tbody>\n",
       "    <tr>\n",
       "      <th id=\"T_9b649_level0_row0\" class=\"row_heading level0 row0\" >2017-01</th>\n",
       "      <td id=\"T_9b649_row0_col0\" class=\"data row0 col0\" >100.00%</td>\n",
       "      <td id=\"T_9b649_row0_col1\" class=\"data row0 col1\" >0.40%</td>\n",
       "      <td id=\"T_9b649_row0_col2\" class=\"data row0 col2\" >0.27%</td>\n",
       "      <td id=\"T_9b649_row0_col3\" class=\"data row0 col3\" >0.13%</td>\n",
       "      <td id=\"T_9b649_row0_col4\" class=\"data row0 col4\" >0.40%</td>\n",
       "      <td id=\"T_9b649_row0_col5\" class=\"data row0 col5\" >0.13%</td>\n",
       "      <td id=\"T_9b649_row0_col6\" class=\"data row0 col6\" >0.40%</td>\n",
       "      <td id=\"T_9b649_row0_col7\" class=\"data row0 col7\" >0.13%</td>\n",
       "      <td id=\"T_9b649_row0_col8\" class=\"data row0 col8\" >0.13%</td>\n",
       "      <td id=\"T_9b649_row0_col9\" class=\"data row0 col9\" ></td>\n",
       "      <td id=\"T_9b649_row0_col10\" class=\"data row0 col10\" >0.40%</td>\n",
       "      <td id=\"T_9b649_row0_col11\" class=\"data row0 col11\" >0.13%</td>\n",
       "      <td id=\"T_9b649_row0_col12\" class=\"data row0 col12\" >0.66%</td>\n",
       "      <td id=\"T_9b649_row0_col13\" class=\"data row0 col13\" >0.40%</td>\n",
       "      <td id=\"T_9b649_row0_col14\" class=\"data row0 col14\" >0.13%</td>\n",
       "      <td id=\"T_9b649_row0_col15\" class=\"data row0 col15\" >0.13%</td>\n",
       "      <td id=\"T_9b649_row0_col16\" class=\"data row0 col16\" >0.27%</td>\n",
       "      <td id=\"T_9b649_row0_col17\" class=\"data row0 col17\" >0.40%</td>\n",
       "      <td id=\"T_9b649_row0_col18\" class=\"data row0 col18\" >0.13%</td>\n",
       "      <td id=\"T_9b649_row0_col19\" class=\"data row0 col19\" ></td>\n",
       "    </tr>\n",
       "    <tr>\n",
       "      <th id=\"T_9b649_level0_row1\" class=\"row_heading level0 row1\" >2017-02</th>\n",
       "      <td id=\"T_9b649_row1_col0\" class=\"data row1 col0\" >100.00%</td>\n",
       "      <td id=\"T_9b649_row1_col1\" class=\"data row1 col1\" >0.24%</td>\n",
       "      <td id=\"T_9b649_row1_col2\" class=\"data row1 col2\" >0.30%</td>\n",
       "      <td id=\"T_9b649_row1_col3\" class=\"data row1 col3\" >0.12%</td>\n",
       "      <td id=\"T_9b649_row1_col4\" class=\"data row1 col4\" >0.41%</td>\n",
       "      <td id=\"T_9b649_row1_col5\" class=\"data row1 col5\" >0.12%</td>\n",
       "      <td id=\"T_9b649_row1_col6\" class=\"data row1 col6\" >0.24%</td>\n",
       "      <td id=\"T_9b649_row1_col7\" class=\"data row1 col7\" >0.18%</td>\n",
       "      <td id=\"T_9b649_row1_col8\" class=\"data row1 col8\" >0.12%</td>\n",
       "      <td id=\"T_9b649_row1_col9\" class=\"data row1 col9\" >0.18%</td>\n",
       "      <td id=\"T_9b649_row1_col10\" class=\"data row1 col10\" >0.12%</td>\n",
       "      <td id=\"T_9b649_row1_col11\" class=\"data row1 col11\" >0.30%</td>\n",
       "      <td id=\"T_9b649_row1_col12\" class=\"data row1 col12\" >0.12%</td>\n",
       "      <td id=\"T_9b649_row1_col13\" class=\"data row1 col13\" >0.18%</td>\n",
       "      <td id=\"T_9b649_row1_col14\" class=\"data row1 col14\" >0.12%</td>\n",
       "      <td id=\"T_9b649_row1_col15\" class=\"data row1 col15\" >0.06%</td>\n",
       "      <td id=\"T_9b649_row1_col16\" class=\"data row1 col16\" >0.06%</td>\n",
       "      <td id=\"T_9b649_row1_col17\" class=\"data row1 col17\" >0.24%</td>\n",
       "      <td id=\"T_9b649_row1_col18\" class=\"data row1 col18\" ></td>\n",
       "      <td id=\"T_9b649_row1_col19\" class=\"data row1 col19\" ></td>\n",
       "    </tr>\n",
       "    <tr>\n",
       "      <th id=\"T_9b649_level0_row2\" class=\"row_heading level0 row2\" >2017-03</th>\n",
       "      <td id=\"T_9b649_row2_col0\" class=\"data row2 col0\" >100.00%</td>\n",
       "      <td id=\"T_9b649_row2_col1\" class=\"data row2 col1\" >0.51%</td>\n",
       "      <td id=\"T_9b649_row2_col2\" class=\"data row2 col2\" >0.35%</td>\n",
       "      <td id=\"T_9b649_row2_col3\" class=\"data row2 col3\" >0.39%</td>\n",
       "      <td id=\"T_9b649_row2_col4\" class=\"data row2 col4\" >0.35%</td>\n",
       "      <td id=\"T_9b649_row2_col5\" class=\"data row2 col5\" >0.16%</td>\n",
       "      <td id=\"T_9b649_row2_col6\" class=\"data row2 col6\" >0.16%</td>\n",
       "      <td id=\"T_9b649_row2_col7\" class=\"data row2 col7\" >0.31%</td>\n",
       "      <td id=\"T_9b649_row2_col8\" class=\"data row2 col8\" >0.35%</td>\n",
       "      <td id=\"T_9b649_row2_col9\" class=\"data row2 col9\" >0.08%</td>\n",
       "      <td id=\"T_9b649_row2_col10\" class=\"data row2 col10\" >0.39%</td>\n",
       "      <td id=\"T_9b649_row2_col11\" class=\"data row2 col11\" >0.12%</td>\n",
       "      <td id=\"T_9b649_row2_col12\" class=\"data row2 col12\" >0.23%</td>\n",
       "      <td id=\"T_9b649_row2_col13\" class=\"data row2 col13\" >0.12%</td>\n",
       "      <td id=\"T_9b649_row2_col14\" class=\"data row2 col14\" >0.16%</td>\n",
       "      <td id=\"T_9b649_row2_col15\" class=\"data row2 col15\" >0.23%</td>\n",
       "      <td id=\"T_9b649_row2_col16\" class=\"data row2 col16\" >0.08%</td>\n",
       "      <td id=\"T_9b649_row2_col17\" class=\"data row2 col17\" >0.16%</td>\n",
       "      <td id=\"T_9b649_row2_col18\" class=\"data row2 col18\" ></td>\n",
       "      <td id=\"T_9b649_row2_col19\" class=\"data row2 col19\" ></td>\n",
       "    </tr>\n",
       "    <tr>\n",
       "      <th id=\"T_9b649_level0_row3\" class=\"row_heading level0 row3\" >2017-04</th>\n",
       "      <td id=\"T_9b649_row3_col0\" class=\"data row3 col0\" >100.00%</td>\n",
       "      <td id=\"T_9b649_row3_col1\" class=\"data row3 col1\" >0.60%</td>\n",
       "      <td id=\"T_9b649_row3_col2\" class=\"data row3 col2\" >0.22%</td>\n",
       "      <td id=\"T_9b649_row3_col3\" class=\"data row3 col3\" >0.17%</td>\n",
       "      <td id=\"T_9b649_row3_col4\" class=\"data row3 col4\" >0.30%</td>\n",
       "      <td id=\"T_9b649_row3_col5\" class=\"data row3 col5\" >0.26%</td>\n",
       "      <td id=\"T_9b649_row3_col6\" class=\"data row3 col6\" >0.34%</td>\n",
       "      <td id=\"T_9b649_row3_col7\" class=\"data row3 col7\" >0.30%</td>\n",
       "      <td id=\"T_9b649_row3_col8\" class=\"data row3 col8\" >0.30%</td>\n",
       "      <td id=\"T_9b649_row3_col9\" class=\"data row3 col9\" >0.17%</td>\n",
       "      <td id=\"T_9b649_row3_col10\" class=\"data row3 col10\" >0.26%</td>\n",
       "      <td id=\"T_9b649_row3_col11\" class=\"data row3 col11\" >0.09%</td>\n",
       "      <td id=\"T_9b649_row3_col12\" class=\"data row3 col12\" >0.09%</td>\n",
       "      <td id=\"T_9b649_row3_col13\" class=\"data row3 col13\" >0.04%</td>\n",
       "      <td id=\"T_9b649_row3_col14\" class=\"data row3 col14\" >0.09%</td>\n",
       "      <td id=\"T_9b649_row3_col15\" class=\"data row3 col15\" >0.09%</td>\n",
       "      <td id=\"T_9b649_row3_col16\" class=\"data row3 col16\" >0.13%</td>\n",
       "      <td id=\"T_9b649_row3_col17\" class=\"data row3 col17\" ></td>\n",
       "      <td id=\"T_9b649_row3_col18\" class=\"data row3 col18\" ></td>\n",
       "      <td id=\"T_9b649_row3_col19\" class=\"data row3 col19\" ></td>\n",
       "    </tr>\n",
       "    <tr>\n",
       "      <th id=\"T_9b649_level0_row4\" class=\"row_heading level0 row4\" >2017-05</th>\n",
       "      <td id=\"T_9b649_row4_col0\" class=\"data row4 col0\" >100.00%</td>\n",
       "      <td id=\"T_9b649_row4_col1\" class=\"data row4 col1\" >0.48%</td>\n",
       "      <td id=\"T_9b649_row4_col2\" class=\"data row4 col2\" >0.48%</td>\n",
       "      <td id=\"T_9b649_row4_col3\" class=\"data row4 col3\" >0.40%</td>\n",
       "      <td id=\"T_9b649_row4_col4\" class=\"data row4 col4\" >0.31%</td>\n",
       "      <td id=\"T_9b649_row4_col5\" class=\"data row4 col5\" >0.34%</td>\n",
       "      <td id=\"T_9b649_row4_col6\" class=\"data row4 col6\" >0.42%</td>\n",
       "      <td id=\"T_9b649_row4_col7\" class=\"data row4 col7\" >0.14%</td>\n",
       "      <td id=\"T_9b649_row4_col8\" class=\"data row4 col8\" >0.25%</td>\n",
       "      <td id=\"T_9b649_row4_col9\" class=\"data row4 col9\" >0.25%</td>\n",
       "      <td id=\"T_9b649_row4_col10\" class=\"data row4 col10\" >0.25%</td>\n",
       "      <td id=\"T_9b649_row4_col11\" class=\"data row4 col11\" >0.34%</td>\n",
       "      <td id=\"T_9b649_row4_col12\" class=\"data row4 col12\" >0.25%</td>\n",
       "      <td id=\"T_9b649_row4_col13\" class=\"data row4 col13\" >0.03%</td>\n",
       "      <td id=\"T_9b649_row4_col14\" class=\"data row4 col14\" >0.20%</td>\n",
       "      <td id=\"T_9b649_row4_col15\" class=\"data row4 col15\" >0.23%</td>\n",
       "      <td id=\"T_9b649_row4_col16\" class=\"data row4 col16\" ></td>\n",
       "      <td id=\"T_9b649_row4_col17\" class=\"data row4 col17\" ></td>\n",
       "      <td id=\"T_9b649_row4_col18\" class=\"data row4 col18\" ></td>\n",
       "      <td id=\"T_9b649_row4_col19\" class=\"data row4 col19\" ></td>\n",
       "    </tr>\n",
       "    <tr>\n",
       "      <th id=\"T_9b649_level0_row5\" class=\"row_heading level0 row5\" >2017-06</th>\n",
       "      <td id=\"T_9b649_row5_col0\" class=\"data row5 col0\" >100.00%</td>\n",
       "      <td id=\"T_9b649_row5_col1\" class=\"data row5 col1\" >0.45%</td>\n",
       "      <td id=\"T_9b649_row5_col2\" class=\"data row5 col2\" >0.35%</td>\n",
       "      <td id=\"T_9b649_row5_col3\" class=\"data row5 col3\" >0.39%</td>\n",
       "      <td id=\"T_9b649_row5_col4\" class=\"data row5 col4\" >0.26%</td>\n",
       "      <td id=\"T_9b649_row5_col5\" class=\"data row5 col5\" >0.39%</td>\n",
       "      <td id=\"T_9b649_row5_col6\" class=\"data row5 col6\" >0.35%</td>\n",
       "      <td id=\"T_9b649_row5_col7\" class=\"data row5 col7\" >0.23%</td>\n",
       "      <td id=\"T_9b649_row5_col8\" class=\"data row5 col8\" >0.13%</td>\n",
       "      <td id=\"T_9b649_row5_col9\" class=\"data row5 col9\" >0.23%</td>\n",
       "      <td id=\"T_9b649_row5_col10\" class=\"data row5 col10\" >0.32%</td>\n",
       "      <td id=\"T_9b649_row5_col11\" class=\"data row5 col11\" >0.32%</td>\n",
       "      <td id=\"T_9b649_row5_col12\" class=\"data row5 col12\" >0.16%</td>\n",
       "      <td id=\"T_9b649_row5_col13\" class=\"data row5 col13\" >0.13%</td>\n",
       "      <td id=\"T_9b649_row5_col14\" class=\"data row5 col14\" >0.19%</td>\n",
       "      <td id=\"T_9b649_row5_col15\" class=\"data row5 col15\" ></td>\n",
       "      <td id=\"T_9b649_row5_col16\" class=\"data row5 col16\" ></td>\n",
       "      <td id=\"T_9b649_row5_col17\" class=\"data row5 col17\" ></td>\n",
       "      <td id=\"T_9b649_row5_col18\" class=\"data row5 col18\" ></td>\n",
       "      <td id=\"T_9b649_row5_col19\" class=\"data row5 col19\" ></td>\n",
       "    </tr>\n",
       "    <tr>\n",
       "      <th id=\"T_9b649_level0_row6\" class=\"row_heading level0 row6\" >2017-07</th>\n",
       "      <td id=\"T_9b649_row6_col0\" class=\"data row6 col0\" >100.00%</td>\n",
       "      <td id=\"T_9b649_row6_col1\" class=\"data row6 col1\" >0.52%</td>\n",
       "      <td id=\"T_9b649_row6_col2\" class=\"data row6 col2\" >0.34%</td>\n",
       "      <td id=\"T_9b649_row6_col3\" class=\"data row6 col3\" >0.24%</td>\n",
       "      <td id=\"T_9b649_row6_col4\" class=\"data row6 col4\" >0.29%</td>\n",
       "      <td id=\"T_9b649_row6_col5\" class=\"data row6 col5\" >0.21%</td>\n",
       "      <td id=\"T_9b649_row6_col6\" class=\"data row6 col6\" >0.31%</td>\n",
       "      <td id=\"T_9b649_row6_col7\" class=\"data row6 col7\" >0.10%</td>\n",
       "      <td id=\"T_9b649_row6_col8\" class=\"data row6 col8\" >0.18%</td>\n",
       "      <td id=\"T_9b649_row6_col9\" class=\"data row6 col9\" >0.26%</td>\n",
       "      <td id=\"T_9b649_row6_col10\" class=\"data row6 col10\" >0.21%</td>\n",
       "      <td id=\"T_9b649_row6_col11\" class=\"data row6 col11\" >0.29%</td>\n",
       "      <td id=\"T_9b649_row6_col12\" class=\"data row6 col12\" >0.13%</td>\n",
       "      <td id=\"T_9b649_row6_col13\" class=\"data row6 col13\" >0.26%</td>\n",
       "      <td id=\"T_9b649_row6_col14\" class=\"data row6 col14\" ></td>\n",
       "      <td id=\"T_9b649_row6_col15\" class=\"data row6 col15\" ></td>\n",
       "      <td id=\"T_9b649_row6_col16\" class=\"data row6 col16\" ></td>\n",
       "      <td id=\"T_9b649_row6_col17\" class=\"data row6 col17\" ></td>\n",
       "      <td id=\"T_9b649_row6_col18\" class=\"data row6 col18\" ></td>\n",
       "      <td id=\"T_9b649_row6_col19\" class=\"data row6 col19\" ></td>\n",
       "    </tr>\n",
       "    <tr>\n",
       "      <th id=\"T_9b649_level0_row7\" class=\"row_heading level0 row7\" >2017-08</th>\n",
       "      <td id=\"T_9b649_row7_col0\" class=\"data row7 col0\" >100.00%</td>\n",
       "      <td id=\"T_9b649_row7_col1\" class=\"data row7 col1\" >0.68%</td>\n",
       "      <td id=\"T_9b649_row7_col2\" class=\"data row7 col2\" >0.34%</td>\n",
       "      <td id=\"T_9b649_row7_col3\" class=\"data row7 col3\" >0.27%</td>\n",
       "      <td id=\"T_9b649_row7_col4\" class=\"data row7 col4\" >0.36%</td>\n",
       "      <td id=\"T_9b649_row7_col5\" class=\"data row7 col5\" >0.53%</td>\n",
       "      <td id=\"T_9b649_row7_col6\" class=\"data row7 col6\" >0.29%</td>\n",
       "      <td id=\"T_9b649_row7_col7\" class=\"data row7 col7\" >0.27%</td>\n",
       "      <td id=\"T_9b649_row7_col8\" class=\"data row7 col8\" >0.15%</td>\n",
       "      <td id=\"T_9b649_row7_col9\" class=\"data row7 col9\" >0.15%</td>\n",
       "      <td id=\"T_9b649_row7_col10\" class=\"data row7 col10\" >0.24%</td>\n",
       "      <td id=\"T_9b649_row7_col11\" class=\"data row7 col11\" >0.19%</td>\n",
       "      <td id=\"T_9b649_row7_col12\" class=\"data row7 col12\" >0.12%</td>\n",
       "      <td id=\"T_9b649_row7_col13\" class=\"data row7 col13\" ></td>\n",
       "      <td id=\"T_9b649_row7_col14\" class=\"data row7 col14\" ></td>\n",
       "      <td id=\"T_9b649_row7_col15\" class=\"data row7 col15\" ></td>\n",
       "      <td id=\"T_9b649_row7_col16\" class=\"data row7 col16\" ></td>\n",
       "      <td id=\"T_9b649_row7_col17\" class=\"data row7 col17\" ></td>\n",
       "      <td id=\"T_9b649_row7_col18\" class=\"data row7 col18\" ></td>\n",
       "      <td id=\"T_9b649_row7_col19\" class=\"data row7 col19\" ></td>\n",
       "    </tr>\n",
       "    <tr>\n",
       "      <th id=\"T_9b649_level0_row8\" class=\"row_heading level0 row8\" >2017-09</th>\n",
       "      <td id=\"T_9b649_row8_col0\" class=\"data row8 col0\" >100.00%</td>\n",
       "      <td id=\"T_9b649_row8_col1\" class=\"data row8 col1\" >0.69%</td>\n",
       "      <td id=\"T_9b649_row8_col2\" class=\"data row8 col2\" >0.54%</td>\n",
       "      <td id=\"T_9b649_row8_col3\" class=\"data row8 col3\" >0.29%</td>\n",
       "      <td id=\"T_9b649_row8_col4\" class=\"data row8 col4\" >0.44%</td>\n",
       "      <td id=\"T_9b649_row8_col5\" class=\"data row8 col5\" >0.22%</td>\n",
       "      <td id=\"T_9b649_row8_col6\" class=\"data row8 col6\" >0.22%</td>\n",
       "      <td id=\"T_9b649_row8_col7\" class=\"data row8 col7\" >0.25%</td>\n",
       "      <td id=\"T_9b649_row8_col8\" class=\"data row8 col8\" >0.29%</td>\n",
       "      <td id=\"T_9b649_row8_col9\" class=\"data row8 col9\" >0.17%</td>\n",
       "      <td id=\"T_9b649_row8_col10\" class=\"data row8 col10\" >0.27%</td>\n",
       "      <td id=\"T_9b649_row8_col11\" class=\"data row8 col11\" >0.07%</td>\n",
       "      <td id=\"T_9b649_row8_col12\" class=\"data row8 col12\" ></td>\n",
       "      <td id=\"T_9b649_row8_col13\" class=\"data row8 col13\" ></td>\n",
       "      <td id=\"T_9b649_row8_col14\" class=\"data row8 col14\" ></td>\n",
       "      <td id=\"T_9b649_row8_col15\" class=\"data row8 col15\" ></td>\n",
       "      <td id=\"T_9b649_row8_col16\" class=\"data row8 col16\" ></td>\n",
       "      <td id=\"T_9b649_row8_col17\" class=\"data row8 col17\" ></td>\n",
       "      <td id=\"T_9b649_row8_col18\" class=\"data row8 col18\" ></td>\n",
       "      <td id=\"T_9b649_row8_col19\" class=\"data row8 col19\" ></td>\n",
       "    </tr>\n",
       "    <tr>\n",
       "      <th id=\"T_9b649_level0_row9\" class=\"row_heading level0 row9\" >2017-10</th>\n",
       "      <td id=\"T_9b649_row9_col0\" class=\"data row9 col0\" >100.00%</td>\n",
       "      <td id=\"T_9b649_row9_col1\" class=\"data row9 col1\" >0.71%</td>\n",
       "      <td id=\"T_9b649_row9_col2\" class=\"data row9 col2\" >0.25%</td>\n",
       "      <td id=\"T_9b649_row9_col3\" class=\"data row9 col3\" >0.09%</td>\n",
       "      <td id=\"T_9b649_row9_col4\" class=\"data row9 col4\" >0.23%</td>\n",
       "      <td id=\"T_9b649_row9_col5\" class=\"data row9 col5\" >0.20%</td>\n",
       "      <td id=\"T_9b649_row9_col6\" class=\"data row9 col6\" >0.20%</td>\n",
       "      <td id=\"T_9b649_row9_col7\" class=\"data row9 col7\" >0.36%</td>\n",
       "      <td id=\"T_9b649_row9_col8\" class=\"data row9 col8\" >0.27%</td>\n",
       "      <td id=\"T_9b649_row9_col9\" class=\"data row9 col9\" >0.20%</td>\n",
       "      <td id=\"T_9b649_row9_col10\" class=\"data row9 col10\" >0.20%</td>\n",
       "      <td id=\"T_9b649_row9_col11\" class=\"data row9 col11\" ></td>\n",
       "      <td id=\"T_9b649_row9_col12\" class=\"data row9 col12\" ></td>\n",
       "      <td id=\"T_9b649_row9_col13\" class=\"data row9 col13\" ></td>\n",
       "      <td id=\"T_9b649_row9_col14\" class=\"data row9 col14\" ></td>\n",
       "      <td id=\"T_9b649_row9_col15\" class=\"data row9 col15\" ></td>\n",
       "      <td id=\"T_9b649_row9_col16\" class=\"data row9 col16\" ></td>\n",
       "      <td id=\"T_9b649_row9_col17\" class=\"data row9 col17\" ></td>\n",
       "      <td id=\"T_9b649_row9_col18\" class=\"data row9 col18\" ></td>\n",
       "      <td id=\"T_9b649_row9_col19\" class=\"data row9 col19\" ></td>\n",
       "    </tr>\n",
       "    <tr>\n",
       "      <th id=\"T_9b649_level0_row10\" class=\"row_heading level0 row10\" >2017-11</th>\n",
       "      <td id=\"T_9b649_row10_col0\" class=\"data row10 col0\" >100.00%</td>\n",
       "      <td id=\"T_9b649_row10_col1\" class=\"data row10 col1\" >0.56%</td>\n",
       "      <td id=\"T_9b649_row10_col2\" class=\"data row10 col2\" >0.39%</td>\n",
       "      <td id=\"T_9b649_row10_col3\" class=\"data row10 col3\" >0.17%</td>\n",
       "      <td id=\"T_9b649_row10_col4\" class=\"data row10 col4\" >0.19%</td>\n",
       "      <td id=\"T_9b649_row10_col5\" class=\"data row10 col5\" >0.18%</td>\n",
       "      <td id=\"T_9b649_row10_col6\" class=\"data row10 col6\" >0.11%</td>\n",
       "      <td id=\"T_9b649_row10_col7\" class=\"data row10 col7\" >0.19%</td>\n",
       "      <td id=\"T_9b649_row10_col8\" class=\"data row10 col8\" >0.13%</td>\n",
       "      <td id=\"T_9b649_row10_col9\" class=\"data row10 col9\" >0.06%</td>\n",
       "      <td id=\"T_9b649_row10_col10\" class=\"data row10 col10\" ></td>\n",
       "      <td id=\"T_9b649_row10_col11\" class=\"data row10 col11\" ></td>\n",
       "      <td id=\"T_9b649_row10_col12\" class=\"data row10 col12\" ></td>\n",
       "      <td id=\"T_9b649_row10_col13\" class=\"data row10 col13\" ></td>\n",
       "      <td id=\"T_9b649_row10_col14\" class=\"data row10 col14\" ></td>\n",
       "      <td id=\"T_9b649_row10_col15\" class=\"data row10 col15\" ></td>\n",
       "      <td id=\"T_9b649_row10_col16\" class=\"data row10 col16\" ></td>\n",
       "      <td id=\"T_9b649_row10_col17\" class=\"data row10 col17\" ></td>\n",
       "      <td id=\"T_9b649_row10_col18\" class=\"data row10 col18\" ></td>\n",
       "      <td id=\"T_9b649_row10_col19\" class=\"data row10 col19\" ></td>\n",
       "    </tr>\n",
       "    <tr>\n",
       "      <th id=\"T_9b649_level0_row11\" class=\"row_heading level0 row11\" >2017-12</th>\n",
       "      <td id=\"T_9b649_row11_col0\" class=\"data row11 col0\" >100.00%</td>\n",
       "      <td id=\"T_9b649_row11_col1\" class=\"data row11 col1\" >0.22%</td>\n",
       "      <td id=\"T_9b649_row11_col2\" class=\"data row11 col2\" >0.28%</td>\n",
       "      <td id=\"T_9b649_row11_col3\" class=\"data row11 col3\" >0.35%</td>\n",
       "      <td id=\"T_9b649_row11_col4\" class=\"data row11 col4\" >0.26%</td>\n",
       "      <td id=\"T_9b649_row11_col5\" class=\"data row11 col5\" >0.20%</td>\n",
       "      <td id=\"T_9b649_row11_col6\" class=\"data row11 col6\" >0.17%</td>\n",
       "      <td id=\"T_9b649_row11_col7\" class=\"data row11 col7\" >0.04%</td>\n",
       "      <td id=\"T_9b649_row11_col8\" class=\"data row11 col8\" >0.22%</td>\n",
       "      <td id=\"T_9b649_row11_col9\" class=\"data row11 col9\" ></td>\n",
       "      <td id=\"T_9b649_row11_col10\" class=\"data row11 col10\" ></td>\n",
       "      <td id=\"T_9b649_row11_col11\" class=\"data row11 col11\" ></td>\n",
       "      <td id=\"T_9b649_row11_col12\" class=\"data row11 col12\" ></td>\n",
       "      <td id=\"T_9b649_row11_col13\" class=\"data row11 col13\" ></td>\n",
       "      <td id=\"T_9b649_row11_col14\" class=\"data row11 col14\" ></td>\n",
       "      <td id=\"T_9b649_row11_col15\" class=\"data row11 col15\" ></td>\n",
       "      <td id=\"T_9b649_row11_col16\" class=\"data row11 col16\" ></td>\n",
       "      <td id=\"T_9b649_row11_col17\" class=\"data row11 col17\" ></td>\n",
       "      <td id=\"T_9b649_row11_col18\" class=\"data row11 col18\" ></td>\n",
       "      <td id=\"T_9b649_row11_col19\" class=\"data row11 col19\" ></td>\n",
       "    </tr>\n",
       "  </tbody>\n",
       "</table>\n"
      ],
      "text/plain": [
       "<pandas.io.formats.style.Styler at 0x1eacd7815a0>"
      ]
     },
     "execution_count": 46,
     "metadata": {},
     "output_type": "execute_result"
    }
   ],
   "source": [
    "final = (retention_matrix\n",
    "            .style\n",
    "            .set_caption('User retention by cohort')  # добавляем подпись\n",
    "            .format(\"{:.2%}\", na_rep=\"\"))  # числа форматируем как проценты, NaN заменяем на пустоту\n",
    "final"
   ]
  },
  {
   "cell_type": "code",
   "execution_count": 47,
   "metadata": {},
   "outputs": [
    {
     "data": {
      "text/plain": [
       "month\n",
       "3    2017-05\n",
       "dtype: period[M]"
      ]
     },
     "execution_count": 47,
     "metadata": {},
     "output_type": "execute_result"
    }
   ],
   "source": [
    "retention_matrix[[3]].idxmax()"
   ]
  },
  {
   "cell_type": "markdown",
   "metadata": {},
   "source": [
    "## 6. Используя python, построил RFM-сегментацию пользователей, чтобы качественно оценить свою аудиторию. \n",
    "#### В кластеризации следующие метрики: R - время от последней покупки пользователя до текущей даты, F - суммарное количество покупок у пользователя за всё время, M - сумма покупок за всё время. Для каждого RFM-сегмента построил границы метрик recency, frequency и monetary для интерпретации этих кластеров. Пример такого описания: RFM-сегмент 132 (recency=1, frequency=3, monetary=2) имеет границы метрик recency от 130 до 500 дней, frequency от 2 до 5 заказов в неделю, monetary от 1780 до 3560 рублей в неделю. \n",
    "Описание подхода нашел тут (https://guillaume-martin.github.io/rfm-segmentation-with-python.html)."
   ]
  },
  {
   "cell_type": "code",
   "execution_count": 48,
   "metadata": {},
   "outputs": [
    {
     "data": {
      "text/html": [
       "<div>\n",
       "<style scoped>\n",
       "    .dataframe tbody tr th:only-of-type {\n",
       "        vertical-align: middle;\n",
       "    }\n",
       "\n",
       "    .dataframe tbody tr th {\n",
       "        vertical-align: top;\n",
       "    }\n",
       "\n",
       "    .dataframe thead th {\n",
       "        text-align: right;\n",
       "    }\n",
       "</style>\n",
       "<table border=\"1\" class=\"dataframe\">\n",
       "  <thead>\n",
       "    <tr style=\"text-align: right;\">\n",
       "      <th></th>\n",
       "      <th>order_id</th>\n",
       "      <th>order_item_id</th>\n",
       "      <th>product_id</th>\n",
       "      <th>seller_id</th>\n",
       "      <th>shipping_limit_date</th>\n",
       "      <th>price</th>\n",
       "      <th>freight_value</th>\n",
       "    </tr>\n",
       "  </thead>\n",
       "  <tbody>\n",
       "    <tr>\n",
       "      <th>0</th>\n",
       "      <td>00010242fe8c5a6d1ba2dd792cb16214</td>\n",
       "      <td>1</td>\n",
       "      <td>4244733e06e7ecb4970a6e2683c13e61</td>\n",
       "      <td>48436dade18ac8b2bce089ec2a041202</td>\n",
       "      <td>2017-09-19 09:45:35</td>\n",
       "      <td>58.90</td>\n",
       "      <td>13.29</td>\n",
       "    </tr>\n",
       "    <tr>\n",
       "      <th>1</th>\n",
       "      <td>00018f77f2f0320c557190d7a144bdd3</td>\n",
       "      <td>1</td>\n",
       "      <td>e5f2d52b802189ee658865ca93d83a8f</td>\n",
       "      <td>dd7ddc04e1b6c2c614352b383efe2d36</td>\n",
       "      <td>2017-05-03 11:05:13</td>\n",
       "      <td>239.90</td>\n",
       "      <td>19.93</td>\n",
       "    </tr>\n",
       "    <tr>\n",
       "      <th>2</th>\n",
       "      <td>000229ec398224ef6ca0657da4fc703e</td>\n",
       "      <td>1</td>\n",
       "      <td>c777355d18b72b67abbeef9df44fd0fd</td>\n",
       "      <td>5b51032eddd242adc84c38acab88f23d</td>\n",
       "      <td>2018-01-18 14:48:30</td>\n",
       "      <td>199.00</td>\n",
       "      <td>17.87</td>\n",
       "    </tr>\n",
       "    <tr>\n",
       "      <th>3</th>\n",
       "      <td>00024acbcdf0a6daa1e931b038114c75</td>\n",
       "      <td>1</td>\n",
       "      <td>7634da152a4610f1595efa32f14722fc</td>\n",
       "      <td>9d7a1d34a5052409006425275ba1c2b4</td>\n",
       "      <td>2018-08-15 10:10:18</td>\n",
       "      <td>12.99</td>\n",
       "      <td>12.79</td>\n",
       "    </tr>\n",
       "    <tr>\n",
       "      <th>4</th>\n",
       "      <td>00042b26cf59d7ce69dfabb4e55b4fd9</td>\n",
       "      <td>1</td>\n",
       "      <td>ac6c3623068f30de03045865e4e10089</td>\n",
       "      <td>df560393f3a51e74553ab94004ba5c87</td>\n",
       "      <td>2017-02-13 13:57:51</td>\n",
       "      <td>199.90</td>\n",
       "      <td>18.14</td>\n",
       "    </tr>\n",
       "  </tbody>\n",
       "</table>\n",
       "</div>"
      ],
      "text/plain": [
       "                           order_id  order_item_id  \\\n",
       "0  00010242fe8c5a6d1ba2dd792cb16214              1   \n",
       "1  00018f77f2f0320c557190d7a144bdd3              1   \n",
       "2  000229ec398224ef6ca0657da4fc703e              1   \n",
       "3  00024acbcdf0a6daa1e931b038114c75              1   \n",
       "4  00042b26cf59d7ce69dfabb4e55b4fd9              1   \n",
       "\n",
       "                         product_id                         seller_id  \\\n",
       "0  4244733e06e7ecb4970a6e2683c13e61  48436dade18ac8b2bce089ec2a041202   \n",
       "1  e5f2d52b802189ee658865ca93d83a8f  dd7ddc04e1b6c2c614352b383efe2d36   \n",
       "2  c777355d18b72b67abbeef9df44fd0fd  5b51032eddd242adc84c38acab88f23d   \n",
       "3  7634da152a4610f1595efa32f14722fc  9d7a1d34a5052409006425275ba1c2b4   \n",
       "4  ac6c3623068f30de03045865e4e10089  df560393f3a51e74553ab94004ba5c87   \n",
       "\n",
       "   shipping_limit_date   price  freight_value  \n",
       "0  2017-09-19 09:45:35   58.90          13.29  \n",
       "1  2017-05-03 11:05:13  239.90          19.93  \n",
       "2  2018-01-18 14:48:30  199.00          17.87  \n",
       "3  2018-08-15 10:10:18   12.99          12.79  \n",
       "4  2017-02-13 13:57:51  199.90          18.14  "
      ]
     },
     "execution_count": 48,
     "metadata": {},
     "output_type": "execute_result"
    }
   ],
   "source": [
    "order_items.head()"
   ]
  },
  {
   "cell_type": "code",
   "execution_count": 49,
   "metadata": {},
   "outputs": [],
   "source": [
    "task_6_1 = pd.merge(customers[['customer_id', 'customer_unique_id']],\n",
    "                  orders[['customer_id', 'order_purchase_timestamp', 'order_id']],        \n",
    "                  on = 'customer_id', how = 'inner'\n",
    ")\n",
    "\n",
    "task_table_6 = order_items[['order_id', 'price']]\n",
    "task_table_6 = task_table_6.groupby('order_id', as_index = False).price.sum()\n",
    "\n",
    "task_6 = pd.merge(task_6_1,\n",
    "                  task_table_6,\n",
    "                  on = 'order_id', how = 'inner'\n",
    ")\n",
    "task_6 = task_6.drop(['customer_id'], axis = 1)\n",
    "task_6 = task_6.rename(columns = {'customer_unique_id':'user_id', 'order_purchase_timestamp':'timestamp'})"
   ]
  },
  {
   "cell_type": "code",
   "execution_count": 50,
   "metadata": {},
   "outputs": [
    {
     "data": {
      "text/plain": [
       "(array([], dtype=int64), array([], dtype=int64))"
      ]
     },
     "execution_count": 50,
     "metadata": {},
     "output_type": "execute_result"
    }
   ],
   "source": [
    "np.where(pd.isna(task_6))"
   ]
  },
  {
   "cell_type": "code",
   "execution_count": 51,
   "metadata": {},
   "outputs": [],
   "source": [
    "task_6_final = task_6 \\\n",
    "    .groupby('user_id', as_index = False) \\\n",
    "    .agg({\n",
    "    'price':'sum',\n",
    "    'timestamp':'max',\n",
    "    'order_id':'nunique'\n",
    "})\n",
    "task_6_final.rename(columns = {\n",
    "                    'price': 'sum_price', \n",
    "                    'timestamp':'first_purchase_date', \n",
    "                    'order_id':'count_purchase'}, \n",
    "                    inplace = True)"
   ]
  },
  {
   "cell_type": "code",
   "execution_count": 52,
   "metadata": {},
   "outputs": [
    {
     "data": {
      "text/html": [
       "<div>\n",
       "<style scoped>\n",
       "    .dataframe tbody tr th:only-of-type {\n",
       "        vertical-align: middle;\n",
       "    }\n",
       "\n",
       "    .dataframe tbody tr th {\n",
       "        vertical-align: top;\n",
       "    }\n",
       "\n",
       "    .dataframe thead th {\n",
       "        text-align: right;\n",
       "    }\n",
       "</style>\n",
       "<table border=\"1\" class=\"dataframe\">\n",
       "  <thead>\n",
       "    <tr style=\"text-align: right;\">\n",
       "      <th></th>\n",
       "      <th>user_id</th>\n",
       "      <th>sum_price</th>\n",
       "      <th>first_purchase_date</th>\n",
       "      <th>count_purchase</th>\n",
       "    </tr>\n",
       "  </thead>\n",
       "  <tbody>\n",
       "    <tr>\n",
       "      <th>0</th>\n",
       "      <td>0000366f3b9a7992bf8c76cfdf3221e2</td>\n",
       "      <td>129.90</td>\n",
       "      <td>2018-05-10 10:56:27</td>\n",
       "      <td>1</td>\n",
       "    </tr>\n",
       "    <tr>\n",
       "      <th>1</th>\n",
       "      <td>0000b849f77a49e4a4ce2b2a4ca5be3f</td>\n",
       "      <td>18.90</td>\n",
       "      <td>2018-05-07 11:11:27</td>\n",
       "      <td>1</td>\n",
       "    </tr>\n",
       "    <tr>\n",
       "      <th>2</th>\n",
       "      <td>0000f46a3911fa3c0805444483337064</td>\n",
       "      <td>69.00</td>\n",
       "      <td>2017-03-10 21:05:03</td>\n",
       "      <td>1</td>\n",
       "    </tr>\n",
       "    <tr>\n",
       "      <th>3</th>\n",
       "      <td>0000f6ccb0745a6a4b88665a16c9f078</td>\n",
       "      <td>25.99</td>\n",
       "      <td>2017-10-12 20:29:41</td>\n",
       "      <td>1</td>\n",
       "    </tr>\n",
       "    <tr>\n",
       "      <th>4</th>\n",
       "      <td>0004aac84e0df4da2b147fca70cf8255</td>\n",
       "      <td>180.00</td>\n",
       "      <td>2017-11-14 19:45:42</td>\n",
       "      <td>1</td>\n",
       "    </tr>\n",
       "  </tbody>\n",
       "</table>\n",
       "</div>"
      ],
      "text/plain": [
       "                            user_id  sum_price first_purchase_date  \\\n",
       "0  0000366f3b9a7992bf8c76cfdf3221e2     129.90 2018-05-10 10:56:27   \n",
       "1  0000b849f77a49e4a4ce2b2a4ca5be3f      18.90 2018-05-07 11:11:27   \n",
       "2  0000f46a3911fa3c0805444483337064      69.00 2017-03-10 21:05:03   \n",
       "3  0000f6ccb0745a6a4b88665a16c9f078      25.99 2017-10-12 20:29:41   \n",
       "4  0004aac84e0df4da2b147fca70cf8255     180.00 2017-11-14 19:45:42   \n",
       "\n",
       "   count_purchase  \n",
       "0               1  \n",
       "1               1  \n",
       "2               1  \n",
       "3               1  \n",
       "4               1  "
      ]
     },
     "execution_count": 52,
     "metadata": {},
     "output_type": "execute_result"
    }
   ],
   "source": [
    "task_6_final.head()"
   ]
  },
  {
   "cell_type": "code",
   "execution_count": 53,
   "metadata": {},
   "outputs": [],
   "source": [
    "current_date = task_6_final.first_purchase_date.max() + relativedelta(months=1)\n",
    "task_6_final['last_purchase_days'] = (task_6_final.first_purchase_date.apply(lambda x: current_date - x)).dt.days"
   ]
  },
  {
   "cell_type": "code",
   "execution_count": 54,
   "metadata": {},
   "outputs": [
    {
     "data": {
      "text/plain": [
       "Text(0.5, 1.0, 'Распределение давности заказов')"
      ]
     },
     "execution_count": 54,
     "metadata": {},
     "output_type": "execute_result"
    },
    {
     "data": {
      "image/png": "[encoded data removed]",
      "text/plain": [
       "<Figure size 640x480 with 1 Axes>"
      ]
     },
     "metadata": {},
     "output_type": "display_data"
    }
   ],
   "source": [
    "sns.histplot(task_6_final.last_purchase_days)\n",
    "\n",
    "plt.xlabel('Как давно была сделана покупка')\n",
    "plt.ylabel('Количество')\n",
    "plt.title('Распределение давности заказов')"
   ]
  },
  {
   "cell_type": "code",
   "execution_count": 55,
   "metadata": {},
   "outputs": [],
   "source": [
    " def recency(arg):\n",
    "    if arg <= 30:\n",
    "        return 3\n",
    "    elif (arg > 30) & (arg <= 90):\n",
    "        return 2\n",
    "    else:\n",
    "        return 1\n",
    "    \n",
    "task_6_final['recency'] = task_6_final.last_purchase_days.apply(recency)"
   ]
  },
  {
   "cell_type": "code",
   "execution_count": 56,
   "metadata": {},
   "outputs": [
    {
     "data": {
      "text/plain": [
       "Text(0.5, 1.0, 'Распределение количества заказов пользователей')"
      ]
     },
     "execution_count": 56,
     "metadata": {},
     "output_type": "execute_result"
    },
    {
     "data": {
      "image/png": "[encoded data removed]",
      "text/plain": [
       "<Figure size 640x480 with 1 Axes>"
      ]
     },
     "metadata": {},
     "output_type": "display_data"
    }
   ],
   "source": [
    "sns.histplot(task_6_final.count_purchase)\n",
    "\n",
    "plt.xlabel('Количество заказов на пользователя')\n",
    "plt.ylabel('Сколько сделали такое кол-во заказов')\n",
    "plt.title('Распределение количества заказов пользователей')"
   ]
  },
  {
   "cell_type": "code",
   "execution_count": 57,
   "metadata": {},
   "outputs": [],
   "source": [
    " def frequency(arg):\n",
    "    if arg == 1:\n",
    "        return 1\n",
    "    elif arg in [2, 3]:\n",
    "        return 2\n",
    "    else:\n",
    "        return 3\n",
    "\n",
    "task_6_final['frequency'] = task_6_final.count_purchase.apply(frequency)"
   ]
  },
  {
   "cell_type": "code",
   "execution_count": 58,
   "metadata": {},
   "outputs": [
    {
     "data": {
      "text/plain": [
       "Text(0.5, 1.0, 'Распределение сумм заказов')"
      ]
     },
     "execution_count": 58,
     "metadata": {},
     "output_type": "execute_result"
    },
    {
     "data": {
      "image/png": "[encoded data removed]",
      "text/plain": [
       "<Figure size 640x480 with 1 Axes>"
      ]
     },
     "metadata": {},
     "output_type": "display_data"
    }
   ],
   "source": [
    "sns.histplot(task_6_final.sum_price, bins = 100)\n",
    "\n",
    "plt.xlabel('Общая сумма всех заказов')\n",
    "plt.ylabel('Сколько пользователей имеют такую сумму')\n",
    "plt.title('Распределение сумм заказов')"
   ]
  },
  {
   "cell_type": "code",
   "execution_count": 59,
   "metadata": {},
   "outputs": [],
   "source": [
    "def monetary(arg):\n",
    "    if arg <= 200:\n",
    "        return 1\n",
    "    elif (arg > 200) & (arg < 1000):\n",
    "        return 2\n",
    "    else:\n",
    "        return 3\n",
    "\n",
    "task_6_final['monetary'] = task_6_final.sum_price.apply(monetary)"
   ]
  },
  {
   "cell_type": "code",
   "execution_count": 60,
   "metadata": {},
   "outputs": [
    {
     "name": "stderr",
     "output_type": "stream",
     "text": [
      "C:\\Users\\merabi\\AppData\\Local\\Temp\\ipykernel_11416\\3201782879.py:19: FutureWarning:\n",
      "\n",
      "this method is deprecated in favour of `Styler.hide(axis=\"index\")`\n",
      "\n"
     ]
    }
   ],
   "source": [
    "task_6_final['rfm_group'] = task_6_final \\\n",
    "                            .apply(lambda x: str(x.recency) + str(x.frequency) + str(x.monetary), axis = 1)\n",
    "\n",
    "task_6_result = task_6_final \\\n",
    "        .groupby('rfm_group') \\\n",
    "        .agg({\n",
    "        'last_purchase_days':'mean',\n",
    "        'count_purchase': 'mean',\n",
    "        'sum_price': 'mean'\n",
    "        }) \\\n",
    "        .reset_index() \\\n",
    "        .rename(columns = {\n",
    "        'last_purchase_days': 'R_mean',\n",
    "        'count_purchase': 'F_mean',\n",
    "        'sum_price': 'M_mean',\n",
    "        'rfm_group': 'RFM_group'\n",
    "        })\n",
    "\n",
    "task_6_result = task_6_result.style.hide_index().format(\"{:.2f}\", subset=task_6_result.columns.drop('RFM_group'))"
   ]
  },
  {
   "cell_type": "code",
   "execution_count": 61,
   "metadata": {},
   "outputs": [
    {
     "data": {
      "text/html": [
       "<style type=\"text/css\">\n",
       "</style>\n",
       "<table id=\"T_66999\">\n",
       "  <thead>\n",
       "    <tr>\n",
       "      <th id=\"T_66999_level0_col0\" class=\"col_heading level0 col0\" >RFM_group</th>\n",
       "      <th id=\"T_66999_level0_col1\" class=\"col_heading level0 col1\" >R_mean</th>\n",
       "      <th id=\"T_66999_level0_col2\" class=\"col_heading level0 col2\" >F_mean</th>\n",
       "      <th id=\"T_66999_level0_col3\" class=\"col_heading level0 col3\" >M_mean</th>\n",
       "    </tr>\n",
       "  </thead>\n",
       "  <tbody>\n",
       "    <tr>\n",
       "      <td id=\"T_66999_row0_col0\" class=\"data row0 col0\" >111</td>\n",
       "      <td id=\"T_66999_row0_col1\" class=\"data row0 col1\" >302.70</td>\n",
       "      <td id=\"T_66999_row0_col2\" class=\"data row0 col2\" >1.00</td>\n",
       "      <td id=\"T_66999_row0_col3\" class=\"data row0 col3\" >81.49</td>\n",
       "    </tr>\n",
       "    <tr>\n",
       "      <td id=\"T_66999_row1_col0\" class=\"data row1 col0\" >112</td>\n",
       "      <td id=\"T_66999_row1_col1\" class=\"data row1 col1\" >306.88</td>\n",
       "      <td id=\"T_66999_row1_col2\" class=\"data row1 col2\" >1.00</td>\n",
       "      <td id=\"T_66999_row1_col3\" class=\"data row1 col3\" >375.19</td>\n",
       "    </tr>\n",
       "    <tr>\n",
       "      <td id=\"T_66999_row2_col0\" class=\"data row2 col0\" >113</td>\n",
       "      <td id=\"T_66999_row2_col1\" class=\"data row2 col1\" >309.40</td>\n",
       "      <td id=\"T_66999_row2_col2\" class=\"data row2 col2\" >1.00</td>\n",
       "      <td id=\"T_66999_row2_col3\" class=\"data row2 col3\" >1606.04</td>\n",
       "    </tr>\n",
       "    <tr>\n",
       "      <td id=\"T_66999_row3_col0\" class=\"data row3 col0\" >121</td>\n",
       "      <td id=\"T_66999_row3_col1\" class=\"data row3 col1\" >291.92</td>\n",
       "      <td id=\"T_66999_row3_col2\" class=\"data row3 col2\" >2.04</td>\n",
       "      <td id=\"T_66999_row3_col3\" class=\"data row3 col3\" >118.71</td>\n",
       "    </tr>\n",
       "    <tr>\n",
       "      <td id=\"T_66999_row4_col0\" class=\"data row4 col0\" >122</td>\n",
       "      <td id=\"T_66999_row4_col1\" class=\"data row4 col1\" >281.38</td>\n",
       "      <td id=\"T_66999_row4_col2\" class=\"data row4 col2\" >2.09</td>\n",
       "      <td id=\"T_66999_row4_col3\" class=\"data row4 col3\" >371.32</td>\n",
       "    </tr>\n",
       "    <tr>\n",
       "      <td id=\"T_66999_row5_col0\" class=\"data row5 col0\" >123</td>\n",
       "      <td id=\"T_66999_row5_col1\" class=\"data row5 col1\" >263.56</td>\n",
       "      <td id=\"T_66999_row5_col2\" class=\"data row5 col2\" >2.12</td>\n",
       "      <td id=\"T_66999_row5_col3\" class=\"data row5 col3\" >1608.29</td>\n",
       "    </tr>\n",
       "    <tr>\n",
       "      <td id=\"T_66999_row6_col0\" class=\"data row6 col0\" >131</td>\n",
       "      <td id=\"T_66999_row6_col1\" class=\"data row6 col1\" >604.00</td>\n",
       "      <td id=\"T_66999_row6_col2\" class=\"data row6 col2\" >4.67</td>\n",
       "      <td id=\"T_66999_row6_col3\" class=\"data row6 col3\" >54.87</td>\n",
       "    </tr>\n",
       "    <tr>\n",
       "      <td id=\"T_66999_row7_col0\" class=\"data row7 col0\" >132</td>\n",
       "      <td id=\"T_66999_row7_col1\" class=\"data row7 col1\" >198.16</td>\n",
       "      <td id=\"T_66999_row7_col2\" class=\"data row7 col2\" >4.71</td>\n",
       "      <td id=\"T_66999_row7_col3\" class=\"data row7 col3\" >532.53</td>\n",
       "    </tr>\n",
       "    <tr>\n",
       "      <td id=\"T_66999_row8_col0\" class=\"data row8 col0\" >133</td>\n",
       "      <td id=\"T_66999_row8_col1\" class=\"data row8 col1\" >200.25</td>\n",
       "      <td id=\"T_66999_row8_col2\" class=\"data row8 col2\" >5.50</td>\n",
       "      <td id=\"T_66999_row8_col3\" class=\"data row8 col3\" >1308.31</td>\n",
       "    </tr>\n",
       "    <tr>\n",
       "      <td id=\"T_66999_row9_col0\" class=\"data row9 col0\" >211</td>\n",
       "      <td id=\"T_66999_row9_col1\" class=\"data row9 col1\" >62.09</td>\n",
       "      <td id=\"T_66999_row9_col2\" class=\"data row9 col2\" >1.00</td>\n",
       "      <td id=\"T_66999_row9_col3\" class=\"data row9 col3\" >81.55</td>\n",
       "    </tr>\n",
       "    <tr>\n",
       "      <td id=\"T_66999_row10_col0\" class=\"data row10 col0\" >212</td>\n",
       "      <td id=\"T_66999_row10_col1\" class=\"data row10 col1\" >63.17</td>\n",
       "      <td id=\"T_66999_row10_col2\" class=\"data row10 col2\" >1.00</td>\n",
       "      <td id=\"T_66999_row10_col3\" class=\"data row10 col3\" >372.35</td>\n",
       "    </tr>\n",
       "    <tr>\n",
       "      <td id=\"T_66999_row11_col0\" class=\"data row11 col0\" >213</td>\n",
       "      <td id=\"T_66999_row11_col1\" class=\"data row11 col1\" >63.46</td>\n",
       "      <td id=\"T_66999_row11_col2\" class=\"data row11 col2\" >1.00</td>\n",
       "      <td id=\"T_66999_row11_col3\" class=\"data row11 col3\" >1757.42</td>\n",
       "    </tr>\n",
       "    <tr>\n",
       "      <td id=\"T_66999_row12_col0\" class=\"data row12 col0\" >221</td>\n",
       "      <td id=\"T_66999_row12_col1\" class=\"data row12 col1\" >62.85</td>\n",
       "      <td id=\"T_66999_row12_col2\" class=\"data row12 col2\" >2.04</td>\n",
       "      <td id=\"T_66999_row12_col3\" class=\"data row12 col3\" >115.72</td>\n",
       "    </tr>\n",
       "    <tr>\n",
       "      <td id=\"T_66999_row13_col0\" class=\"data row13 col0\" >222</td>\n",
       "      <td id=\"T_66999_row13_col1\" class=\"data row13 col1\" >63.51</td>\n",
       "      <td id=\"T_66999_row13_col2\" class=\"data row13 col2\" >2.11</td>\n",
       "      <td id=\"T_66999_row13_col3\" class=\"data row13 col3\" >361.48</td>\n",
       "    </tr>\n",
       "    <tr>\n",
       "      <td id=\"T_66999_row14_col0\" class=\"data row14 col0\" >223</td>\n",
       "      <td id=\"T_66999_row14_col1\" class=\"data row14 col1\" >67.20</td>\n",
       "      <td id=\"T_66999_row14_col2\" class=\"data row14 col2\" >2.40</td>\n",
       "      <td id=\"T_66999_row14_col3\" class=\"data row14 col3\" >1422.70</td>\n",
       "    </tr>\n",
       "    <tr>\n",
       "      <td id=\"T_66999_row15_col0\" class=\"data row15 col0\" >232</td>\n",
       "      <td id=\"T_66999_row15_col1\" class=\"data row15 col1\" >50.62</td>\n",
       "      <td id=\"T_66999_row15_col2\" class=\"data row15 col2\" >5.88</td>\n",
       "      <td id=\"T_66999_row15_col3\" class=\"data row15 col3\" >465.00</td>\n",
       "    </tr>\n",
       "    <tr>\n",
       "      <td id=\"T_66999_row16_col0\" class=\"data row16 col0\" >233</td>\n",
       "      <td id=\"T_66999_row16_col1\" class=\"data row16 col1\" >52.50</td>\n",
       "      <td id=\"T_66999_row16_col2\" class=\"data row16 col2\" >4.00</td>\n",
       "      <td id=\"T_66999_row16_col3\" class=\"data row16 col3\" >2883.45</td>\n",
       "    </tr>\n",
       "    <tr>\n",
       "      <td id=\"T_66999_row17_col0\" class=\"data row17 col0\" >322</td>\n",
       "      <td id=\"T_66999_row17_col1\" class=\"data row17 col1\" >30.00</td>\n",
       "      <td id=\"T_66999_row17_col2\" class=\"data row17 col2\" >2.00</td>\n",
       "      <td id=\"T_66999_row17_col3\" class=\"data row17 col3\" >290.00</td>\n",
       "    </tr>\n",
       "  </tbody>\n",
       "</table>\n"
      ],
      "text/plain": [
       "<pandas.io.formats.style.Styler at 0x1eadbc9ac50>"
      ]
     },
     "execution_count": 61,
     "metadata": {},
     "output_type": "execute_result"
    }
   ],
   "source": [
    "task_6_result"
   ]
  },
  {
   "cell_type": "code",
   "execution_count": null,
   "metadata": {},
   "outputs": [],
   "source": []
  }
 ],
 "metadata": {
  "kernelspec": {
   "display_name": "Python 3 (ipykernel)",
   "language": "python",
   "name": "python3"
  },
  "language_info": {
   "codemirror_mode": {
    "name": "ipython",
    "version": 3
   },
   "file_extension": ".py",
   "mimetype": "text/x-python",
   "name": "python",
   "nbconvert_exporter": "python",
   "pygments_lexer": "ipython3",
   "version": "3.10.8"
  },
  "vscode": {
   "interpreter": {
    "hash": "bc038f49922869149b65b4598415aebf52596316e5de8512e1ce1680ba125e28"
   }
  }
 },
 "nbformat": 4,
 "nbformat_minor": 4
}
